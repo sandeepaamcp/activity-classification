{
 "cells": [
  {
   "attachments": {},
   "cell_type": "markdown",
   "metadata": {},
   "source": [
    "# Activities Classification with Explainable AI (XAI)\n",
    "\n",
    "<!-- ![title](Figure_2.png) -->"
   ]
  },
  {
   "cell_type": "code",
   "execution_count": 40,
   "metadata": {},
   "outputs": [],
   "source": [
    "import numpy as np\n",
    "import pandas as pd\n",
    "from tensorflow.keras.models import Sequential\n",
    "from tensorflow.keras.models import clone_model\n",
    "from tensorflow.keras.layers import Dense\n",
    "from sklearn.preprocessing import StandardScaler\n",
    "import random\n",
    "\n",
    "from sklearn.metrics import ConfusionMatrixDisplay\n",
    "from sklearn.metrics import confusion_matrix\n",
    "import matplotlib.pyplot as plt\n",
    "\n",
    "from sklearn.metrics import accuracy_score, f1_score, precision_score, recall_score, classification_report, confusion_matrix\n"
   ]
  },
  {
   "attachments": {},
   "cell_type": "markdown",
   "metadata": {},
   "source": [
    "## Opening the files\n",
    "Load the training/testing dataset from csv files\n",
    "first column: ID\n",
    "last column: the expected output, for example: 1, 2, 3, corresponds to one of 3 activities\n",
    "+ 1: web browsing/file downloading\n",
    "+ 2: online communication, like video call\n",
    "+ 3: online video watching"
   ]
  },
  {
   "cell_type": "code",
   "execution_count": 58,
   "metadata": {},
   "outputs": [
    {
     "name": "stdout",
     "output_type": "stream",
     "text": [
      "The shape of the training dataset: (279, 22)\n",
      "The shape of the testing dataset: (103, 22)\n",
      "The shape of the testing dataset: (5000, 22)\n"
     ]
    },
    {
     "data": {
      "text/html": [
       "<div>\n",
       "<style scoped>\n",
       "    .dataframe tbody tr th:only-of-type {\n",
       "        vertical-align: middle;\n",
       "    }\n",
       "\n",
       "    .dataframe tbody tr th {\n",
       "        vertical-align: top;\n",
       "    }\n",
       "\n",
       "    .dataframe thead th {\n",
       "        text-align: right;\n",
       "    }\n",
       "</style>\n",
       "<table border=\"1\" class=\"dataframe\">\n",
       "  <thead>\n",
       "    <tr style=\"text-align: right;\">\n",
       "      <th></th>\n",
       "      <th>session_time</th>\n",
       "      <th>%tcp_protocol</th>\n",
       "      <th>%udp_protocol</th>\n",
       "      <th>ul_data_volume</th>\n",
       "      <th>max_ul_volume</th>\n",
       "      <th>min_ul_volume</th>\n",
       "      <th>avg_ul_volume</th>\n",
       "      <th>std_ul_volume</th>\n",
       "      <th>%ul_volume</th>\n",
       "      <th>dl_data_volume</th>\n",
       "      <th>...</th>\n",
       "      <th>avg_dl_volume</th>\n",
       "      <th>std_dl_volume</th>\n",
       "      <th>%dl_volume</th>\n",
       "      <th>nb_uplink_packet</th>\n",
       "      <th>nb_downlink_packet</th>\n",
       "      <th>ul_packet</th>\n",
       "      <th>dl_packet</th>\n",
       "      <th>kB/s</th>\n",
       "      <th>nb_packet/s</th>\n",
       "      <th>output</th>\n",
       "    </tr>\n",
       "  </thead>\n",
       "  <tbody>\n",
       "    <tr>\n",
       "      <th>0</th>\n",
       "      <td>4.999674</td>\n",
       "      <td>100.000000</td>\n",
       "      <td>0.000000</td>\n",
       "      <td>99090</td>\n",
       "      <td>54</td>\n",
       "      <td>54</td>\n",
       "      <td>54.000000</td>\n",
       "      <td>0.000000</td>\n",
       "      <td>1.652834</td>\n",
       "      <td>5896066</td>\n",
       "      <td>...</td>\n",
       "      <td>1564.358185</td>\n",
       "      <td>313.304936</td>\n",
       "      <td>98.347166</td>\n",
       "      <td>1835</td>\n",
       "      <td>3769</td>\n",
       "      <td>32.744468</td>\n",
       "      <td>67.255532</td>\n",
       "      <td>1199.109362</td>\n",
       "      <td>1120.873063</td>\n",
       "      <td>1</td>\n",
       "    </tr>\n",
       "    <tr>\n",
       "      <th>1</th>\n",
       "      <td>0.892125</td>\n",
       "      <td>100.000000</td>\n",
       "      <td>0.000000</td>\n",
       "      <td>32184</td>\n",
       "      <td>54</td>\n",
       "      <td>54</td>\n",
       "      <td>54.000000</td>\n",
       "      <td>0.000000</td>\n",
       "      <td>1.673617</td>\n",
       "      <td>1890837</td>\n",
       "      <td>...</td>\n",
       "      <td>1594.297639</td>\n",
       "      <td>601.903863</td>\n",
       "      <td>98.326383</td>\n",
       "      <td>596</td>\n",
       "      <td>1186</td>\n",
       "      <td>33.445567</td>\n",
       "      <td>66.554433</td>\n",
       "      <td>2155.550758</td>\n",
       "      <td>1997.477642</td>\n",
       "      <td>1</td>\n",
       "    </tr>\n",
       "    <tr>\n",
       "      <th>2</th>\n",
       "      <td>3.412767</td>\n",
       "      <td>99.857265</td>\n",
       "      <td>0.142735</td>\n",
       "      <td>77133</td>\n",
       "      <td>471</td>\n",
       "      <td>54</td>\n",
       "      <td>55.213314</td>\n",
       "      <td>18.696881</td>\n",
       "      <td>2.276791</td>\n",
       "      <td>3310662</td>\n",
       "      <td>...</td>\n",
       "      <td>1571.268154</td>\n",
       "      <td>562.653689</td>\n",
       "      <td>97.723209</td>\n",
       "      <td>1397</td>\n",
       "      <td>2107</td>\n",
       "      <td>39.868721</td>\n",
       "      <td>60.131279</td>\n",
       "      <td>992.682790</td>\n",
       "      <td>1026.732873</td>\n",
       "      <td>1</td>\n",
       "    </tr>\n",
       "    <tr>\n",
       "      <th>3</th>\n",
       "      <td>4.999285</td>\n",
       "      <td>99.888471</td>\n",
       "      <td>0.111529</td>\n",
       "      <td>142985</td>\n",
       "      <td>471</td>\n",
       "      <td>54</td>\n",
       "      <td>54.699694</td>\n",
       "      <td>14.495354</td>\n",
       "      <td>1.925924</td>\n",
       "      <td>7281243</td>\n",
       "      <td>...</td>\n",
       "      <td>1597.114060</td>\n",
       "      <td>649.341567</td>\n",
       "      <td>98.074076</td>\n",
       "      <td>2614</td>\n",
       "      <td>4559</td>\n",
       "      <td>36.442214</td>\n",
       "      <td>63.557786</td>\n",
       "      <td>1485.057968</td>\n",
       "      <td>1434.805182</td>\n",
       "      <td>1</td>\n",
       "    </tr>\n",
       "    <tr>\n",
       "      <th>4</th>\n",
       "      <td>1.682172</td>\n",
       "      <td>100.000000</td>\n",
       "      <td>0.000000</td>\n",
       "      <td>60534</td>\n",
       "      <td>54</td>\n",
       "      <td>54</td>\n",
       "      <td>54.000000</td>\n",
       "      <td>0.000000</td>\n",
       "      <td>1.571208</td>\n",
       "      <td>3792170</td>\n",
       "      <td>...</td>\n",
       "      <td>1645.907118</td>\n",
       "      <td>1250.277675</td>\n",
       "      <td>98.428792</td>\n",
       "      <td>1121</td>\n",
       "      <td>2304</td>\n",
       "      <td>32.729927</td>\n",
       "      <td>67.270073</td>\n",
       "      <td>2290.315058</td>\n",
       "      <td>2036.058071</td>\n",
       "      <td>1</td>\n",
       "    </tr>\n",
       "  </tbody>\n",
       "</table>\n",
       "<p>5 rows × 22 columns</p>\n",
       "</div>"
      ],
      "text/plain": [
       "   session_time  %tcp_protocol  %udp_protocol  ul_data_volume  max_ul_volume  \\\n",
       "0      4.999674     100.000000       0.000000           99090             54   \n",
       "1      0.892125     100.000000       0.000000           32184             54   \n",
       "2      3.412767      99.857265       0.142735           77133            471   \n",
       "3      4.999285      99.888471       0.111529          142985            471   \n",
       "4      1.682172     100.000000       0.000000           60534             54   \n",
       "\n",
       "   min_ul_volume  avg_ul_volume  std_ul_volume  %ul_volume  dl_data_volume  \\\n",
       "0             54      54.000000       0.000000    1.652834         5896066   \n",
       "1             54      54.000000       0.000000    1.673617         1890837   \n",
       "2             54      55.213314      18.696881    2.276791         3310662   \n",
       "3             54      54.699694      14.495354    1.925924         7281243   \n",
       "4             54      54.000000       0.000000    1.571208         3792170   \n",
       "\n",
       "   ...  avg_dl_volume  std_dl_volume  %dl_volume  nb_uplink_packet  \\\n",
       "0  ...    1564.358185     313.304936   98.347166              1835   \n",
       "1  ...    1594.297639     601.903863   98.326383               596   \n",
       "2  ...    1571.268154     562.653689   97.723209              1397   \n",
       "3  ...    1597.114060     649.341567   98.074076              2614   \n",
       "4  ...    1645.907118    1250.277675   98.428792              1121   \n",
       "\n",
       "   nb_downlink_packet  ul_packet  dl_packet         kB/s  nb_packet/s  output  \n",
       "0                3769  32.744468  67.255532  1199.109362  1120.873063       1  \n",
       "1                1186  33.445567  66.554433  2155.550758  1997.477642       1  \n",
       "2                2107  39.868721  60.131279   992.682790  1026.732873       1  \n",
       "3                4559  36.442214  63.557786  1485.057968  1434.805182       1  \n",
       "4                2304  32.729927  67.270073  2290.315058  2036.058071       1  \n",
       "\n",
       "[5 rows x 22 columns]"
      ]
     },
     "execution_count": 58,
     "metadata": {},
     "output_type": "execute_result"
    }
   ],
   "source": [
    "# Load the training/testing dataset from csv files\n",
    "training_dataset = pd.read_csv(\"../../output_train.csv\", header=0, usecols=[*range(1,23)], sep=\";\")\n",
    "testing_dataset = pd.read_csv(\"../../output_test.csv\", header=0, usecols=[*range(1,23)], sep=\";\")\n",
    "\n",
    "poison_dataset = pd.read_csv(\"../../poison/generated-5000.csv\")\n",
    "\n",
    "# Remove missing values\n",
    "training_dataset.dropna(axis = 0, inplace = True)\n",
    "testing_dataset.dropna(axis = 0, inplace = True)\n",
    "poison_dataset.dropna(axis = 0, inplace=True)\n",
    "\n",
    "print(\"The shape of the training dataset: \" + str(training_dataset.shape))\n",
    "print(\"The shape of the testing dataset: \" + str(testing_dataset.shape))\n",
    "print(\"The shape of the testing dataset: \" + str(poison_dataset.shape))\n",
    "\n",
    "training_dataset.head()"
   ]
  },
  {
   "cell_type": "code",
   "execution_count": 46,
   "metadata": {},
   "outputs": [
    {
     "name": "stdout",
     "output_type": "stream",
     "text": [
      "['session_time', '%tcp_protocol', '%udp_protocol', 'ul_data_volume', 'max_ul_volume', 'min_ul_volume', 'avg_ul_volume', 'std_ul_volume', '%ul_volume', 'dl_data_volume', 'max_dl_volume', 'min_dl_volume', 'avg_dl_volume', 'std_dl_volume', '%dl_volume', 'nb_uplink_packet', 'nb_downlink_packet', 'ul_packet', 'dl_packet', 'kB/s', 'nb_packet/s']\n"
     ]
    }
   ],
   "source": [
    "# Set of features in the dataset\n",
    "features = list(testing_dataset.columns)\n",
    "print(features[:-1])"
   ]
  },
  {
   "cell_type": "code",
   "execution_count": 60,
   "metadata": {},
   "outputs": [
    {
     "name": "stdout",
     "output_type": "stream",
     "text": [
      "Preprocessed inputs of the training dataset: [[ 1.24949172  0.59231316 -0.58844871 ...  0.54501086  0.2208743\n",
      "   0.62843195]\n",
      " [-0.8505485   0.59231316 -0.58844871 ...  0.4955518   0.97523057\n",
      "   1.92817113]\n",
      " [ 0.43816388  0.5886868  -0.58480418 ...  0.04242978  0.0580633\n",
      "   0.48885055]\n",
      " ...\n",
      " [-1.2056687   0.34743347 -0.34234218 ... -0.71477922 -0.56070378\n",
      "  -0.41047599]\n",
      " [-0.89460259  0.58409106 -0.58018542 ...  0.10394211  0.44768975\n",
      "   1.24034932]\n",
      " [-0.98176026  0.59231316 -0.58844871 ... -0.62260254  0.43111073\n",
      "  -0.53651579]]\n",
      "Preprocessed outputs of the training dataset: [[1 0 0]\n",
      " [1 0 0]\n",
      " [1 0 0]\n",
      " [1 0 0]\n",
      " [1 0 0]\n",
      " [1 0 0]\n",
      " [1 0 0]\n",
      " [1 0 0]\n",
      " [1 0 0]\n",
      " [1 0 0]\n",
      " [1 0 0]\n",
      " [1 0 0]\n",
      " [1 0 0]\n",
      " [1 0 0]\n",
      " [1 0 0]\n",
      " [1 0 0]\n",
      " [1 0 0]\n",
      " [1 0 0]\n",
      " [1 0 0]\n",
      " [1 0 0]\n",
      " [1 0 0]\n",
      " [1 0 0]\n",
      " [1 0 0]\n",
      " [1 0 0]\n",
      " [1 0 0]\n",
      " [1 0 0]\n",
      " [1 0 0]\n",
      " [1 0 0]\n",
      " [1 0 0]\n",
      " [1 0 0]\n",
      " [1 0 0]\n",
      " [1 0 0]\n",
      " [1 0 0]\n",
      " [1 0 0]\n",
      " [1 0 0]\n",
      " [1 0 0]\n",
      " [1 0 0]\n",
      " [1 0 0]\n",
      " [1 0 0]\n",
      " [1 0 0]\n",
      " [1 0 0]\n",
      " [1 0 0]\n",
      " [1 0 0]\n",
      " [1 0 0]\n",
      " [1 0 0]\n",
      " [1 0 0]\n",
      " [1 0 0]\n",
      " [1 0 0]\n",
      " [1 0 0]\n",
      " [1 0 0]\n",
      " [1 0 0]\n",
      " [1 0 0]\n",
      " [1 0 0]\n",
      " [1 0 0]\n",
      " [1 0 0]\n",
      " [1 0 0]\n",
      " [1 0 0]\n",
      " [1 0 0]\n",
      " [1 0 0]\n",
      " [1 0 0]\n",
      " [1 0 0]\n",
      " [1 0 0]\n",
      " [1 0 0]\n",
      " [1 0 0]\n",
      " [1 0 0]\n",
      " [1 0 0]\n",
      " [1 0 0]\n",
      " [1 0 0]\n",
      " [1 0 0]\n",
      " [1 0 0]\n",
      " [1 0 0]\n",
      " [1 0 0]\n",
      " [1 0 0]\n",
      " [1 0 0]\n",
      " [1 0 0]\n",
      " [1 0 0]\n",
      " [1 0 0]\n",
      " [1 0 0]\n",
      " [1 0 0]\n",
      " [1 0 0]\n",
      " [1 0 0]\n",
      " [1 0 0]\n",
      " [1 0 0]\n",
      " [1 0 0]\n",
      " [1 0 0]\n",
      " [1 0 0]\n",
      " [1 0 0]\n",
      " [1 0 0]\n",
      " [1 0 0]\n",
      " [1 0 0]\n",
      " [1 0 0]\n",
      " [1 0 0]\n",
      " [1 0 0]\n",
      " [1 0 0]\n",
      " [1 0 0]\n",
      " [1 0 0]\n",
      " [1 0 0]\n",
      " [1 0 0]\n",
      " [1 0 0]\n",
      " [1 0 0]\n",
      " [1 0 0]\n",
      " [1 0 0]\n",
      " [1 0 0]\n",
      " [1 0 0]\n",
      " [1 0 0]\n",
      " [1 0 0]\n",
      " [1 0 0]\n",
      " [1 0 0]\n",
      " [1 0 0]\n",
      " [1 0 0]\n",
      " [1 0 0]\n",
      " [1 0 0]\n",
      " [1 0 0]\n",
      " [1 0 0]\n",
      " [1 0 0]\n",
      " [1 0 0]\n",
      " [1 0 0]\n",
      " [1 0 0]\n",
      " [1 0 0]\n",
      " [1 0 0]\n",
      " [1 0 0]\n",
      " [1 0 0]\n",
      " [1 0 0]\n",
      " [1 0 0]\n",
      " [1 0 0]\n",
      " [1 0 0]\n",
      " [1 0 0]\n",
      " [1 0 0]\n",
      " [1 0 0]\n",
      " [1 0 0]\n",
      " [1 0 0]\n",
      " [1 0 0]\n",
      " [1 0 0]\n",
      " [1 0 0]\n",
      " [1 0 0]\n",
      " [1 0 0]\n",
      " [1 0 0]\n",
      " [1 0 0]\n",
      " [1 0 0]\n",
      " [0 1 0]\n",
      " [0 1 0]\n",
      " [0 1 0]\n",
      " [0 1 0]\n",
      " [0 1 0]\n",
      " [0 1 0]\n",
      " [0 1 0]\n",
      " [0 1 0]\n",
      " [0 1 0]\n",
      " [0 1 0]\n",
      " [0 1 0]\n",
      " [0 1 0]\n",
      " [0 1 0]\n",
      " [0 1 0]\n",
      " [0 1 0]\n",
      " [0 1 0]\n",
      " [0 1 0]\n",
      " [0 1 0]\n",
      " [0 1 0]\n",
      " [0 1 0]\n",
      " [0 1 0]\n",
      " [0 1 0]\n",
      " [0 1 0]\n",
      " [0 1 0]\n",
      " [0 1 0]\n",
      " [0 1 0]\n",
      " [0 1 0]\n",
      " [1 0 0]\n",
      " [1 0 0]\n",
      " [1 0 0]\n",
      " [1 0 0]\n",
      " [1 0 0]\n",
      " [1 0 0]\n",
      " [1 0 0]\n",
      " [1 0 0]\n",
      " [1 0 0]\n",
      " [1 0 0]\n",
      " [1 0 0]\n",
      " [1 0 0]\n",
      " [1 0 0]\n",
      " [1 0 0]\n",
      " [1 0 0]\n",
      " [1 0 0]\n",
      " [0 0 1]\n",
      " [0 0 1]\n",
      " [0 0 1]\n",
      " [0 0 1]\n",
      " [0 0 1]\n",
      " [0 0 1]\n",
      " [0 0 1]\n",
      " [1 0 0]\n",
      " [1 0 0]\n",
      " [1 0 0]\n",
      " [1 0 0]\n",
      " [1 0 0]\n",
      " [1 0 0]\n",
      " [0 0 1]\n",
      " [0 0 1]\n",
      " [0 0 1]\n",
      " [0 0 1]\n",
      " [0 0 1]\n",
      " [0 0 1]\n",
      " [0 0 1]\n",
      " [0 0 1]\n",
      " [0 0 1]\n",
      " [0 0 1]\n",
      " [0 0 1]\n",
      " [0 0 1]\n",
      " [0 0 1]\n",
      " [0 0 1]\n",
      " [0 0 1]\n",
      " [0 0 1]\n",
      " [0 0 1]\n",
      " [0 0 1]\n",
      " [0 0 1]\n",
      " [0 0 1]\n",
      " [0 0 1]\n",
      " [1 0 0]\n",
      " [1 0 0]\n",
      " [1 0 0]\n",
      " [1 0 0]\n",
      " [1 0 0]\n",
      " [1 0 0]\n",
      " [1 0 0]\n",
      " [1 0 0]\n",
      " [1 0 0]\n",
      " [1 0 0]\n",
      " [1 0 0]\n",
      " [1 0 0]\n",
      " [1 0 0]\n",
      " [1 0 0]\n",
      " [1 0 0]\n",
      " [1 0 0]\n",
      " [1 0 0]\n",
      " [1 0 0]\n",
      " [1 0 0]\n",
      " [1 0 0]\n",
      " [1 0 0]\n",
      " [1 0 0]\n",
      " [1 0 0]\n",
      " [1 0 0]\n",
      " [1 0 0]\n",
      " [1 0 0]\n",
      " [1 0 0]\n",
      " [1 0 0]\n",
      " [1 0 0]\n",
      " [1 0 0]\n",
      " [1 0 0]\n",
      " [1 0 0]\n",
      " [1 0 0]\n",
      " [1 0 0]\n",
      " [1 0 0]\n",
      " [1 0 0]\n",
      " [1 0 0]\n",
      " [1 0 0]\n",
      " [1 0 0]\n",
      " [1 0 0]\n",
      " [1 0 0]\n",
      " [1 0 0]\n",
      " [1 0 0]\n",
      " [1 0 0]\n",
      " [1 0 0]\n",
      " [1 0 0]\n",
      " [1 0 0]\n",
      " [1 0 0]\n",
      " [1 0 0]\n",
      " [1 0 0]\n",
      " [1 0 0]\n",
      " [1 0 0]\n",
      " [1 0 0]\n",
      " [1 0 0]\n",
      " [1 0 0]\n",
      " [1 0 0]\n",
      " [1 0 0]\n",
      " [1 0 0]\n",
      " [1 0 0]\n",
      " [1 0 0]\n",
      " [1 0 0]\n",
      " [1 0 0]\n",
      " [1 0 0]]\n"
     ]
    }
   ],
   "source": [
    "# Convert the expected output into arrays, e.g., 1 -> [1, 0, 0]\n",
    "output_training = []\n",
    "for i, val in enumerate(training_dataset.iloc[:,21]):\n",
    "    temp = [0, 0, 0]\n",
    "    temp[val - 1] = 1\n",
    "    output_training.append(temp)\n",
    "\n",
    "output_testing = []\n",
    "for i, val in enumerate(testing_dataset.iloc[:,21]):\n",
    "    temp = [0, 0, 0]\n",
    "    temp[val - 1] = 1\n",
    "    output_testing.append(temp)\n",
    "\n",
    "output_poisoning = []\n",
    "for i, val in enumerate(poison_dataset.iloc[:,-1]):\n",
    "    temp = [0, 0, 0]\n",
    "    temp[int(val) - 1] = 1\n",
    "    output_poisoning.append(temp)\n",
    "\n",
    "# Remove the expected output column from the datasets\n",
    "prep_training_dataset = training_dataset.drop(columns=['output'])\n",
    "prep_testing_dataset = testing_dataset.drop(columns=['output'])\n",
    "\n",
    "prep_poison_dataset = poison_dataset.drop(poison_dataset.columns[-1],axis=1)\n",
    "\n",
    "# Preprocessing the data\n",
    "scaler = StandardScaler()\n",
    "scaler.fit(prep_training_dataset)\n",
    "# scaler.fit(prep_poison_dataset)\n",
    "\n",
    "# Apply transform to both the training/testing dataset.\n",
    "X_train = scaler.transform(prep_training_dataset)\n",
    "Y_train = np.array(output_training)\n",
    "\n",
    "X_test = scaler.transform(prep_testing_dataset)\n",
    "Y_test = np.array(output_testing)\n",
    "\n",
    "X_poison = scaler.transform(prep_poison_dataset)\n",
    "Y_poison = np.array(output_poisoning)\n",
    "\n",
    "print(\"Preprocessed inputs of the training dataset: \" + str(X_train))\n",
    "print(\"Preprocessed outputs of the training dataset: \" + str(Y_train))\n",
    "# print(\"Preprocessed outputs of the poisoning dataset: \" + str(Y_train))"
   ]
  },
  {
   "cell_type": "code",
   "execution_count": 424,
   "metadata": {},
   "outputs": [
    {
     "data": {
      "text/plain": [
       "279"
      ]
     },
     "execution_count": 424,
     "metadata": {},
     "output_type": "execute_result"
    }
   ],
   "source": [
    "len(X_train)"
   ]
  },
  {
   "cell_type": "code",
   "execution_count": 483,
   "metadata": {},
   "outputs": [],
   "source": [
    "'''\n",
    "This function creates the poisoning values based on poison type\n",
    "type:\n",
    "- new_example: add new examples of data from a given poison dataset. \n",
    "- random_swapping: Randomly swap labels from one class to another.\n",
    "- targeted_flipping: Flip the labels based on a target_bias_class. Here a class value should be given for target_bias_class.\n",
    "'''\n",
    "def get_poison_set(X_train, Y_train, X_poison=None, Y_poison=None, poison_type='new_example', percentage=0, target_bias_class=None):\n",
    "    X_train_ = X_train.copy().tolist()\n",
    "    Y_train_ = Y_train.copy().tolist()\n",
    "    poison_count = -1\n",
    "    original_count = -1\n",
    "    if poison_type=='new_example':\n",
    "        required_samples = int(len(X_train_)*percentage*0.01)\n",
    "        original_count = len(X_train)\n",
    "        poison_count = required_samples\n",
    "        # if len(X_poison)>=required_samples:\n",
    "        to_copy_idx =[i for i in range(len(X_poison))]\n",
    "        random.shuffle(to_copy_idx)\n",
    "        for i in range(required_samples):\n",
    "            X_train_.append(X_poison[to_copy_idx[i]])\n",
    "            Y_train_.append(Y_poison[to_copy_idx[i]])\n",
    "\n",
    "    if poison_type=='existing_example':\n",
    "        required_samples = int(len(X_train_)*percentage*0.01)\n",
    "        original_count = len(X_train)\n",
    "        poison_count = len(X_train) - required_samples\n",
    "        # if len(X_poison)>=required_samples:\n",
    "        to_copy_idx =[i for i in range(len(X_poison))]\n",
    "        flip_idx = random.randint(0,len(X_train_)-1)\n",
    "        random.shuffle(to_copy_idx)\n",
    "        for i in range(required_samples):\n",
    "            X_train[flip_idx] = X_poison[to_copy_idx[i]]\n",
    "            Y_train[flip_idx] = Y_poison[to_copy_idx[i]]\n",
    "        \n",
    "        \n",
    "    elif poison_type=='random_swapping':\n",
    "        flip_amount = int(len(X_train_)*percentage*0.01)\n",
    "        original_count = len(X_train) - flip_amount\n",
    "        poison_count = flip_amount\n",
    "\n",
    "        print(len(X_train_)>=flip_amount)\n",
    "        if len(X_train_)>=flip_amount:\n",
    "            for i in range(flip_amount):\n",
    "                flip_idx_1 = random.randint(0,len(Y_train_)-1)\n",
    "                flip_idx_2 = random.randint(0,len(Y_train_)-1)\n",
    "                Y_train_[flip_idx_1], Y_train_[flip_idx_2] = Y_train_[flip_idx_2], Y_train_[flip_idx_1]\n",
    "\n",
    "    elif poison_type=='targeted_flipping':\n",
    "        flip_amount = int(len(X_train_)*percentage*0.01)\n",
    "        original_count = len(X_train) - flip_amount\n",
    "        poison_count = flip_amount\n",
    "        flip_amount = int(len(X_train_)*percentage*0.01)\n",
    "        if len(X_train_)>=flip_amount:\n",
    "            for i in range(flip_amount):\n",
    "                flip_idx_1 = random.randint(0,len(Y_train_)-1)\n",
    "                Y_train_[flip_idx_1] = target_bias_class\n",
    "        \n",
    "        else:\n",
    "            raise Exception('Poison percentage should not exceed 100 percent')\n",
    "    else: \n",
    "        raise Exception('Cannot recognize poison_type. It should be in one of the followings: new_example, random_swapping, and targeted_flipping')\n",
    "            \n",
    "    return np.asarray(X_train_), np.asarray(Y_train_), poison_count, original_count"
   ]
  },
  {
   "cell_type": "code",
   "execution_count": 318,
   "metadata": {},
   "outputs": [],
   "source": [
    "def impact_metric_spatial(FP, F, is_F1=False):\n",
    "    if is_F1:\n",
    "        FP = 1-FP\n",
    "        F = 1-F\n",
    "        \n",
    "    return (FP-F)/F"
   ]
  },
  {
   "cell_type": "code",
   "execution_count": 319,
   "metadata": {},
   "outputs": [],
   "source": [
    "def complexity_spatial(DP, D):\n",
    "    return DP/(D + DP)"
   ]
  },
  {
   "cell_type": "code",
   "execution_count": 320,
   "metadata": {},
   "outputs": [],
   "source": [
    "def evaluate_spatial_metrics_poison_impact(X_test, Y_test, ct_poison, ct_original, model, model_poison):  \n",
    "    \n",
    "    # evaluating without poisoning \n",
    "    _, accuracy_original = model.evaluate(X_test, Y_test)\n",
    "    # Evaluate the Keras model\n",
    "    _, accuracy_poisoned = model_poison.evaluate(X_test, Y_test)\n",
    "\n",
    "    # Make class predictions with the models\n",
    "    predictions_original = (model.predict(X_test) > 0.5).astype(int)\n",
    "    predictions_poisoned = (model_poison.predict(X_test) > 0.5).astype(int)\n",
    "\n",
    "    f1_original = f1_score(Y_test, predictions_original, average=\"macro\")\n",
    "    f1_poisoned = f1_score(Y_test, predictions_poisoned, average=\"macro\")\n",
    "    \n",
    "    # impact metric\n",
    "    print('accuracy original: %.2f'% (accuracy_original))\n",
    "    print('accuracy poisoned: %.2f'% (accuracy_poisoned))\n",
    "    print('f1 original: %.2f'% (f1_original))\n",
    "    print('f1 poisoned: %.2f'% (f1_poisoned))\n",
    "\n",
    "    impact = impact_metric_spatial(f1_poisoned, f1_original, is_F1=True)\n",
    "    complexity = complexity_spatial(ct_poison,ct_original)\n",
    "    \n",
    "    return impact, complexity, accuracy_original, accuracy_poisoned, f1_original, f1_poisoned"
   ]
  },
  {
   "cell_type": "code",
   "execution_count": 321,
   "metadata": {},
   "outputs": [],
   "source": [
    "def get_models_for_attack(epochs=150, verbose=0):\n",
    "    model = Sequential()\n",
    "    model.add(Dense(12, input_shape=(21,), activation='relu'))\n",
    "    model.add(Dense(8, activation='relu'))\n",
    "    model.add(Dense(3, activation='sigmoid'))\n",
    "\n",
    "    # Compile the Keras model\n",
    "    model.compile(loss='binary_crossentropy', optimizer='adam', metrics=['accuracy'])\n",
    "\n",
    "    model_cp = clone_model(model)\n",
    "    model_cp.compile(loss='binary_crossentropy', optimizer='adam', metrics=['accuracy'])\n",
    "\n",
    "    model.fit(X_train, Y_train, epochs=epochs, batch_size=10, verbose=verbose)\n",
    "    return model, model_cp"
   ]
  },
  {
   "cell_type": "code",
   "execution_count": 322,
   "metadata": {},
   "outputs": [],
   "source": [
    "# model, model_cp = get_models_for_attack()\n",
    "# impact,complexity,_,_,_,_ = evaluate_spatial_metrics_poison_impact(\n",
    "#     X_train=X_train, Y_train=Y_train, X_test=X_test, Y_test=Y_test, X_poison=X_poison, Y_poison=Y_poison, \n",
    "#     poison_percentage=10, poison_type='new_example', model=model, model_poison=model_cp, train_epochs=150, batch_size=10, \n",
    "#     is_trained_model_available = True, verbose=0)\n",
    "# print(impact)\n",
    "# print(complexity)"
   ]
  },
  {
   "cell_type": "code",
   "execution_count": 323,
   "metadata": {},
   "outputs": [],
   "source": [
    "'''types:\n",
    "- new_example: add new examples of data from a given poison dataset. \n",
    "- random_swapping: Randomly swap labels from one class to another.\n",
    "- targeted_flipping: Flip the labels based on a target_bias_class. Here a class value should be given for target_bias_class.\n",
    "'''\n",
    "def get_impact_over_range_of_poisoning(poison_range, num_exp, poison_type='new_example', epochs=100, batch_size=10, verbose=0, target_bias_class=None):\n",
    "    impact_vals = []\n",
    "    accuracy_vals = []\n",
    "    complexity_vals = []\n",
    "    for i in range(num_exp):\n",
    "        print('running experiment: %d'%(i))\n",
    "        per_exp_round = []\n",
    "        complexity_round = []\n",
    "        for poison_percent in poison_range:\n",
    "            print('poisoning percentage: %d'%(poison_percent))\n",
    "            # poisoning a model\n",
    "            model, model_cp = get_models_for_attack(epochs=epochs, verbose=0)\n",
    "            X_train_new, Y_train_new, ct_poison, ct_original = get_poison_set(X_train, Y_train, X_poison, Y_poison, \n",
    "                poison_type=poison_type, percentage=poison_percent,target_bias_class=target_bias_class)\n",
    "            model_cp.fit(X_train_new, Y_train_new, epochs=epochs, batch_size=batch_size, verbose=verbose)\n",
    "\n",
    "            impact,complexity,_,_,_,_ = evaluate_spatial_metrics_poison_impact(X_test=X_test, Y_test=Y_test,  \n",
    "            ct_poison=ct_poison, ct_original=ct_original, model=model, model_poison=model_cp)\n",
    "            per_exp_round.append(impact)\n",
    "            complexity_round.append(complexity)\n",
    "\n",
    "        impact_vals.append(per_exp_round)\n",
    "        complexity_vals.append(complexity_round)\n",
    "\n",
    "    return impact_vals, complexity_vals\n"
   ]
  },
  {
   "cell_type": "code",
   "execution_count": 325,
   "metadata": {},
   "outputs": [],
   "source": [
    "# impacts, complexity = get_impact_over_range_of_poisoning(poison_range=[10,20,30,40,50,60,70,80,90,100], num_exp=5, poison_type='new_example',target_bias_class=None)"
   ]
  },
  {
   "cell_type": "code",
   "execution_count": 326,
   "metadata": {},
   "outputs": [],
   "source": [
    "# avg=np.average(np.array(impacts), axis=0)\n",
    "# stdev=np.std(np.array(impacts), axis=0)\n",
    "# complexity_avg = np.average(np.array(complexity), axis=0)"
   ]
  },
  {
   "cell_type": "code",
   "execution_count": null,
   "metadata": {},
   "outputs": [],
   "source": [
    "def draw_graph(x, y_list, err_list, xlabel, ylabel, xlim, ylim=[0,1], label_list=[], is_legend=True, legend_loc ='upper right', \n",
    "               facecolor_list=[], edgecolor_list=[], alpha=0.4, contains_label=True, grid_on=True, thresh_on=True, thresh_val = 0.5):\n",
    "  for i in range(len(y_list)):\n",
    "    y1 = y_list[i]\n",
    "    y_error = err_list[i]\n",
    "    y_min = [y1[j]-y_error[j] for j in range(len(y1))]\n",
    "    y_max = [y1[j]+y_error[j] for j in range(len(y1))]\n",
    "\n",
    "    facecolor = generate_rand_color()\n",
    "    edgecolor = generate_rand_color()\n",
    "    if len(facecolor_list)!=0 and len(edgecolor_list)!=0:\n",
    "      facecolor = facecolor_list[i]\n",
    "      edgecolor = edgecolor_list[i]\n",
    "    if len(label_list)!=0:\n",
    "      plt.plot(x, y1, color=facecolor,label=label_list[i])\n",
    "    else:\n",
    "      plt.plot(x, y1, color=facecolor)\n",
    "\n",
    "    plt.fill_between(x, y_min, y_max,\n",
    "      alpha=alpha, edgecolor=edgecolor, facecolor=facecolor)\n",
    "    \n",
    "  plt.xlabel(xlabel)\n",
    "  plt.ylabel(ylabel)\n",
    "  plt.ylim(ylim)\n",
    "  plt.xlim(xlim)\n",
    "\n",
    "  plt.locator_params(axis=\"x\", integer=True, tight=True)\n",
    "  plt.rc('grid', linestyle=\"--\", color='grey')\n",
    "  plt.grid(grid_on)\n",
    "  plt.xticks(x)\n",
    "\n",
    "  if thresh_on:  \n",
    "    plt.axhline(y=thresh_val, color='#fa7e61', linestyle='--')\n",
    "  \n",
    "  if len(label_list)!=0 and is_legend:\n",
    "    plt.legend( loc=legend_loc)\n",
    "  \n",
    "  plt.show()\n",
    "\n",
    "def generate_rand_color():\n",
    "    return \"#%06x\" % random.randint(0, 0xFFFFFF)\n"
   ]
  },
  {
   "cell_type": "code",
   "execution_count": 390,
   "metadata": {},
   "outputs": [],
   "source": [
    "def draw_graph_diff_x_plots(x_list, y_list, err_list, xlabel, ylabel, xlim, ylim=[0,1], label_list=[], is_legend=True, legend_loc ='upper right', \n",
    "               facecolor_list=[], edgecolor_list=[], alpha=0.4, contains_label=True, grid_on=True, thresh_on=True, thresh_val = 0.5):\n",
    "  for i in range(len(y_list)):\n",
    "    y1 = y_list[i]\n",
    "    y_error = err_list[i]\n",
    "    y_min = [y1[j]-y_error[j] for j in range(len(y1))]\n",
    "    y_max = [y1[j]+y_error[j] for j in range(len(y1))]\n",
    "\n",
    "    facecolor = generate_rand_color()\n",
    "    edgecolor = generate_rand_color()\n",
    "    if len(facecolor_list)!=0 and len(edgecolor_list)!=0:\n",
    "      facecolor = facecolor_list[i]\n",
    "      edgecolor = edgecolor_list[i]\n",
    "    if len(label_list)!=0:\n",
    "      plt.plot(x_list[i], y1, color=facecolor,label=label_list[i])\n",
    "    else:\n",
    "      plt.plot(x_list[i], y1, color=facecolor)\n",
    "\n",
    "    plt.fill_between(x_list[i], y_min, y_max,\n",
    "      alpha=alpha, edgecolor=edgecolor, facecolor=facecolor)\n",
    "    \n",
    "  plt.xlabel(xlabel)\n",
    "  plt.ylabel(ylabel)\n",
    "  plt.ylim(ylim)\n",
    "  plt.xlim(xlim)\n",
    "\n",
    "  plt.locator_params(axis=\"x\", integer=True, tight=True)\n",
    "  plt.rc('grid', linestyle=\"--\", color='grey')\n",
    "  plt.grid(grid_on)\n",
    "  plt.xticks(x_list[i])\n",
    "\n",
    "  if thresh_on:  \n",
    "    plt.axhline(y=thresh_val, color='#fa7e61', linestyle='--')\n",
    "  \n",
    "  if len(label_list)!=0 and is_legend:\n",
    "    plt.legend( loc=legend_loc)\n",
    "  \n",
    "  plt.show()\n",
    "\n",
    "def generate_rand_color():\n",
    "    return \"#%06x\" % random.randint(0, 0xFFFFFF)\n"
   ]
  },
  {
   "cell_type": "code",
   "execution_count": null,
   "metadata": {},
   "outputs": [
    {
     "data": {
      "image/png": "[encoded data removed]",
      "text/plain": [
       "<Figure size 432x288 with 1 Axes>"
      ]
     },
     "metadata": {
      "needs_background": "light"
     },
     "output_type": "display_data"
    }
   ],
   "source": [
    "# draw_graph(x=[10,20,30,40,50,60,70,80,90,100], y_list = [avg], \n",
    "#            err_list = [stdev], xlabel = \"Poison percentage\", \n",
    "#            ylabel = \"Impact\", xlim=[10,100], ylim=[0,max(avg)+max(stdev)], \n",
    "#            is_legend=False, facecolor_list=['#2C3E50','#6C3483','#27AE60','#E67E22'], \n",
    "#            edgecolor_list=['#F9EBEA','#F8F9F9','#EBF5FB','#E9F7EF'], alpha=0.1, thresh_on=False)"
   ]
  },
  {
   "cell_type": "code",
   "execution_count": null,
   "metadata": {},
   "outputs": [
    {
     "name": "stdout",
     "output_type": "stream",
     "text": [
      "running experiment: 0\n",
      "poisoning percentage: 10\n",
      "4/4 [==============================] - 0s 990us/step - loss: 0.1246 - accuracy: 0.9612\n",
      "4/4 [==============================] - 0s 1000us/step - loss: 0.0936 - accuracy: 0.9709\n",
      "4/4 [==============================] - 0s 2ms/step\n",
      "4/4 [==============================] - 0s 1ms/step\n",
      "accuracy original: 0.96\n",
      "accuracy poisoned: 0.97\n",
      "f1 original: 0.93\n",
      "f1 poisoned: 0.93\n",
      "poisoning percentage: 25\n",
      "4/4 [==============================] - 0s 1ms/step - loss: 0.0991 - accuracy: 0.9612\n",
      "4/4 [==============================] - 0s 1ms/step - loss: 0.1041 - accuracy: 0.9515\n",
      "4/4 [==============================] - 0s 1ms/step\n",
      "4/4 [==============================] - 0s 1ms/step\n",
      "accuracy original: 0.96\n",
      "accuracy poisoned: 0.95\n",
      "f1 original: 0.93\n",
      "f1 poisoned: 0.87\n",
      "poisoning percentage: 50\n",
      "4/4 [==============================] - 0s 2ms/step - loss: 0.1600 - accuracy: 0.9612\n",
      "4/4 [==============================] - 0s 2ms/step - loss: 0.1143 - accuracy: 0.9515\n",
      "4/4 [==============================] - 0s 2ms/step\n",
      "4/4 [==============================] - 0s 1ms/step\n",
      "accuracy original: 0.96\n",
      "accuracy poisoned: 0.95\n",
      "f1 original: 0.89\n",
      "f1 poisoned: 0.87\n",
      "poisoning percentage: 75\n",
      "4/4 [==============================] - 0s 1ms/step - loss: 0.1597 - accuracy: 0.9515\n",
      "4/4 [==============================] - 0s 2ms/step - loss: 0.0976 - accuracy: 0.9612\n",
      "4/4 [==============================] - 0s 1ms/step\n",
      "4/4 [==============================] - 0s 1ms/step\n",
      "accuracy original: 0.95\n",
      "accuracy poisoned: 0.96\n",
      "f1 original: 0.91\n",
      "f1 poisoned: 0.91\n",
      "poisoning percentage: 100\n",
      "4/4 [==============================] - 0s 1000us/step - loss: 0.1336 - accuracy: 0.9709\n",
      "4/4 [==============================] - 0s 1ms/step - loss: 0.1035 - accuracy: 0.9612\n",
      "4/4 [==============================] - 0s 1000us/step\n",
      "4/4 [==============================] - 0s 2ms/step\n",
      "accuracy original: 0.97\n",
      "accuracy poisoned: 0.96\n",
      "f1 original: 0.93\n",
      "f1 poisoned: 0.88\n",
      "running experiment: 1\n",
      "poisoning percentage: 10\n",
      "4/4 [==============================] - 0s 2ms/step - loss: 0.1322 - accuracy: 0.9612\n",
      "4/4 [==============================] - 0s 2ms/step - loss: 0.1279 - accuracy: 0.9515\n",
      "4/4 [==============================] - 0s 986us/step\n",
      "4/4 [==============================] - 0s 1ms/step\n",
      "accuracy original: 0.96\n",
      "accuracy poisoned: 0.95\n",
      "f1 original: 0.90\n",
      "f1 poisoned: 0.89\n",
      "poisoning percentage: 25\n",
      "4/4 [==============================] - 0s 2ms/step - loss: 0.1053 - accuracy: 0.9515\n",
      "4/4 [==============================] - 0s 2ms/step - loss: 0.1258 - accuracy: 0.9417\n",
      "4/4 [==============================] - 0s 1ms/step\n",
      "4/4 [==============================] - 0s 1ms/step\n",
      "accuracy original: 0.95\n",
      "accuracy poisoned: 0.94\n",
      "f1 original: 0.89\n",
      "f1 poisoned: 0.87\n",
      "poisoning percentage: 50\n",
      "4/4 [==============================] - 0s 1ms/step - loss: 0.1292 - accuracy: 0.9806\n",
      "4/4 [==============================] - 0s 1ms/step - loss: 0.1593 - accuracy: 0.9612\n",
      "4/4 [==============================] - 0s 1ms/step\n",
      "4/4 [==============================] - 0s 2ms/step\n",
      "accuracy original: 0.98\n",
      "accuracy poisoned: 0.96\n",
      "f1 original: 0.94\n",
      "f1 poisoned: 0.92\n",
      "poisoning percentage: 75\n",
      "4/4 [==============================] - 0s 1ms/step - loss: 0.0981 - accuracy: 0.9709\n",
      "4/4 [==============================] - 0s 1ms/step - loss: 0.1027 - accuracy: 0.9709\n",
      "4/4 [==============================] - 0s 1ms/step\n",
      "4/4 [==============================] - 0s 1ms/step\n",
      "accuracy original: 0.97\n",
      "accuracy poisoned: 0.97\n",
      "f1 original: 0.93\n",
      "f1 poisoned: 0.93\n",
      "poisoning percentage: 100\n",
      "4/4 [==============================] - 0s 2ms/step - loss: 0.1227 - accuracy: 0.9515\n",
      "4/4 [==============================] - 0s 2ms/step - loss: 0.1114 - accuracy: 0.9515\n",
      "4/4 [==============================] - 0s 1ms/step\n",
      "4/4 [==============================] - 0s 1ms/step\n",
      "accuracy original: 0.95\n",
      "accuracy poisoned: 0.95\n",
      "f1 original: 0.89\n",
      "f1 poisoned: 0.88\n",
      "running experiment: 2\n",
      "poisoning percentage: 10\n",
      "4/4 [==============================] - 0s 1ms/step - loss: 0.1136 - accuracy: 0.9709\n",
      "4/4 [==============================] - 0s 1ms/step - loss: 0.1574 - accuracy: 0.9612\n",
      "4/4 [==============================] - 0s 1ms/step\n",
      "4/4 [==============================] - 0s 1ms/step\n",
      "accuracy original: 0.97\n",
      "accuracy poisoned: 0.96\n",
      "f1 original: 0.92\n",
      "f1 poisoned: 0.91\n",
      "poisoning percentage: 25\n",
      "4/4 [==============================] - 0s 1ms/step - loss: 0.0902 - accuracy: 0.9612\n",
      "4/4 [==============================] - 0s 2ms/step - loss: 0.0856 - accuracy: 0.9612\n",
      "4/4 [==============================] - 0s 1ms/step\n",
      "4/4 [==============================] - 0s 1ms/step\n",
      "accuracy original: 0.96\n",
      "accuracy poisoned: 0.96\n",
      "f1 original: 0.90\n",
      "f1 poisoned: 0.87\n",
      "poisoning percentage: 50\n",
      "4/4 [==============================] - 0s 1ms/step - loss: 0.0990 - accuracy: 0.9709\n",
      "4/4 [==============================] - 0s 1ms/step - loss: 0.1772 - accuracy: 0.9029\n",
      "4/4 [==============================] - 0s 1ms/step\n",
      "4/4 [==============================] - 0s 2ms/step\n",
      "accuracy original: 0.97\n",
      "accuracy poisoned: 0.90\n",
      "f1 original: 0.94\n",
      "f1 poisoned: 0.85\n",
      "poisoning percentage: 75\n",
      "4/4 [==============================] - 0s 1ms/step - loss: 0.0880 - accuracy: 0.9806\n",
      "4/4 [==============================] - 0s 1ms/step - loss: 0.0870 - accuracy: 0.9612\n",
      "4/4 [==============================] - 0s 1ms/step\n",
      "4/4 [==============================] - 0s 1000us/step\n",
      "accuracy original: 0.98\n",
      "accuracy poisoned: 0.96\n",
      "f1 original: 0.93\n",
      "f1 poisoned: 0.89\n",
      "poisoning percentage: 100\n",
      "4/4 [==============================] - 0s 985us/step - loss: 0.1455 - accuracy: 0.9806\n",
      "4/4 [==============================] - 0s 1ms/step - loss: 0.1823 - accuracy: 0.8835\n",
      "4/4 [==============================] - 0s 999us/step\n",
      "4/4 [==============================] - 0s 2ms/step\n",
      "accuracy original: 0.98\n",
      "accuracy poisoned: 0.88\n",
      "f1 original: 0.97\n",
      "f1 poisoned: 0.72\n",
      "running experiment: 3\n",
      "poisoning percentage: 10\n",
      "4/4 [==============================] - 0s 1ms/step - loss: 0.1473 - accuracy: 0.9612\n",
      "4/4 [==============================] - 0s 1ms/step - loss: 0.1163 - accuracy: 0.9612\n",
      "4/4 [==============================] - 0s 1000us/step\n",
      "4/4 [==============================] - 0s 998us/step\n",
      "accuracy original: 0.96\n",
      "accuracy poisoned: 0.96\n",
      "f1 original: 0.86\n",
      "f1 poisoned: 0.91\n",
      "poisoning percentage: 25\n",
      "4/4 [==============================] - 0s 1ms/step - loss: 0.1058 - accuracy: 0.9417\n",
      "4/4 [==============================] - 0s 1ms/step - loss: 0.1377 - accuracy: 0.9515\n",
      "4/4 [==============================] - 0s 2ms/step\n",
      "4/4 [==============================] - 0s 1ms/step\n",
      "accuracy original: 0.94\n",
      "accuracy poisoned: 0.95\n",
      "f1 original: 0.89\n",
      "f1 poisoned: 0.85\n",
      "poisoning percentage: 50\n",
      "4/4 [==============================] - 0s 1ms/step - loss: 0.0920 - accuracy: 0.9612\n",
      "4/4 [==============================] - 0s 1ms/step - loss: 0.1901 - accuracy: 0.9126\n",
      "4/4 [==============================] - 0s 2ms/step\n",
      "4/4 [==============================] - 0s 1ms/step\n",
      "accuracy original: 0.96\n",
      "accuracy poisoned: 0.91\n",
      "f1 original: 0.95\n",
      "f1 poisoned: 0.76\n",
      "poisoning percentage: 75\n",
      "4/4 [==============================] - 0s 1ms/step - loss: 0.1118 - accuracy: 0.9417\n",
      "4/4 [==============================] - 0s 2ms/step - loss: 0.1243 - accuracy: 0.9417\n",
      "4/4 [==============================] - 0s 2ms/step\n",
      "4/4 [==============================] - 0s 2ms/step\n",
      "accuracy original: 0.94\n",
      "accuracy poisoned: 0.94\n",
      "f1 original: 0.87\n",
      "f1 poisoned: 0.84\n",
      "poisoning percentage: 100\n",
      "4/4 [==============================] - 0s 1ms/step - loss: 0.0795 - accuracy: 0.9709\n",
      "4/4 [==============================] - 0s 1ms/step - loss: 0.1360 - accuracy: 0.9515\n",
      "4/4 [==============================] - 0s 1ms/step\n",
      "4/4 [==============================] - 0s 999us/step\n",
      "accuracy original: 0.97\n",
      "accuracy poisoned: 0.95\n",
      "f1 original: 0.94\n",
      "f1 poisoned: 0.90\n",
      "running experiment: 4\n",
      "poisoning percentage: 10\n",
      "4/4 [==============================] - 0s 2ms/step - loss: 0.1337 - accuracy: 0.9515\n",
      "4/4 [==============================] - 0s 1ms/step - loss: 0.1303 - accuracy: 0.9709\n",
      "4/4 [==============================] - 0s 1ms/step\n",
      "4/4 [==============================] - 0s 2ms/step\n",
      "accuracy original: 0.95\n",
      "accuracy poisoned: 0.97\n",
      "f1 original: 0.93\n",
      "f1 poisoned: 0.85\n",
      "poisoning percentage: 25\n",
      "4/4 [==============================] - 0s 2ms/step - loss: 0.1186 - accuracy: 0.9709\n",
      "4/4 [==============================] - 0s 1ms/step - loss: 0.0776 - accuracy: 0.9417\n",
      "4/4 [==============================] - 0s 1ms/step\n",
      "4/4 [==============================] - 0s 1ms/step\n",
      "accuracy original: 0.97\n",
      "accuracy poisoned: 0.94\n",
      "f1 original: 0.94\n",
      "f1 poisoned: 0.87\n",
      "poisoning percentage: 50\n",
      "4/4 [==============================] - 0s 1ms/step - loss: 0.0968 - accuracy: 0.9612\n",
      "4/4 [==============================] - 0s 1ms/step - loss: 0.1004 - accuracy: 0.9515\n",
      "4/4 [==============================] - 0s 1ms/step\n",
      "4/4 [==============================] - 0s 1ms/step\n",
      "accuracy original: 0.96\n",
      "accuracy poisoned: 0.95\n",
      "f1 original: 0.93\n",
      "f1 poisoned: 0.89\n",
      "poisoning percentage: 75\n",
      "4/4 [==============================] - 0s 1ms/step - loss: 0.0638 - accuracy: 0.9612\n",
      "4/4 [==============================] - 0s 1ms/step - loss: 0.1336 - accuracy: 0.9126\n",
      "4/4 [==============================] - 0s 1ms/step\n",
      "4/4 [==============================] - 0s 1ms/step\n",
      "accuracy original: 0.96\n",
      "accuracy poisoned: 0.91\n",
      "f1 original: 0.91\n",
      "f1 poisoned: 0.83\n",
      "poisoning percentage: 100\n",
      "4/4 [==============================] - 0s 1ms/step - loss: 0.1004 - accuracy: 0.9612\n",
      "4/4 [==============================] - 0s 2ms/step - loss: 0.0935 - accuracy: 0.9612\n",
      "4/4 [==============================] - 0s 999us/step\n",
      "4/4 [==============================] - 0s 1ms/step\n",
      "accuracy original: 0.96\n",
      "accuracy poisoned: 0.96\n",
      "f1 original: 0.93\n",
      "f1 poisoned: 0.89\n"
     ]
    }
   ],
   "source": [
    "'''types:\n",
    "- new_example: add new examples of data from a given poison dataset. \n",
    "- random_swapping: Randomly swap labels from one class to another.\n",
    "- targeted_flipping: Flip the labels based on a target_bias_class. Here a class value should be given for target_bias_class.\n",
    "'''\n",
    "\n",
    "impacts_new, complexity_new = get_impact_over_range_of_poisoning(poison_range=[10,25,50,75,100], num_exp=5, poison_type='new_example',target_bias_class=None)"
   ]
  },
  {
   "cell_type": "code",
   "execution_count": 491,
   "metadata": {},
   "outputs": [
    {
     "name": "stdout",
     "output_type": "stream",
     "text": [
      "running experiment: 0\n",
      "poisoning percentage: 10\n",
      "4/4 [==============================] - 0s 1ms/step - loss: 0.1502 - accuracy: 0.9320\n",
      "4/4 [==============================] - 0s 2ms/step - loss: 0.1298 - accuracy: 0.9417\n",
      "4/4 [==============================] - 0s 1ms/step\n",
      "4/4 [==============================] - 0s 1ms/step\n",
      "accuracy original: 0.93\n",
      "accuracy poisoned: 0.94\n",
      "f1 original: 0.86\n",
      "f1 poisoned: 0.85\n",
      "poisoning percentage: 25\n",
      "4/4 [==============================] - 0s 2ms/step - loss: 0.1531 - accuracy: 0.9320\n",
      "4/4 [==============================] - 0s 1ms/step - loss: 0.1779 - accuracy: 0.9515\n",
      "4/4 [==============================] - 0s 1ms/step\n",
      "4/4 [==============================] - 0s 1ms/step\n",
      "accuracy original: 0.93\n",
      "accuracy poisoned: 0.95\n",
      "f1 original: 0.86\n",
      "f1 poisoned: 0.89\n",
      "poisoning percentage: 50\n",
      "4/4 [==============================] - 0s 1ms/step - loss: 0.1363 - accuracy: 0.9612\n",
      "4/4 [==============================] - 0s 1ms/step - loss: 0.1223 - accuracy: 0.9417\n",
      "4/4 [==============================] - 0s 999us/step\n",
      "4/4 [==============================] - 0s 983us/step\n",
      "accuracy original: 0.96\n",
      "accuracy poisoned: 0.94\n",
      "f1 original: 0.87\n",
      "f1 poisoned: 0.89\n",
      "poisoning percentage: 75\n",
      "4/4 [==============================] - 0s 1ms/step - loss: 0.1577 - accuracy: 0.9515\n",
      "4/4 [==============================] - 0s 1ms/step - loss: 0.1268 - accuracy: 0.9612\n",
      "4/4 [==============================] - 0s 1000us/step\n",
      "4/4 [==============================] - 0s 1ms/step\n",
      "accuracy original: 0.95\n",
      "accuracy poisoned: 0.96\n",
      "f1 original: 0.84\n",
      "f1 poisoned: 0.91\n",
      "poisoning percentage: 100\n",
      "4/4 [==============================] - 0s 1ms/step - loss: 0.1185 - accuracy: 0.9612\n",
      "4/4 [==============================] - 0s 2ms/step - loss: 0.1582 - accuracy: 0.9612\n",
      "4/4 [==============================] - 0s 1ms/step\n",
      "4/4 [==============================] - 0s 1ms/step\n",
      "accuracy original: 0.96\n",
      "accuracy poisoned: 0.96\n",
      "f1 original: 0.90\n",
      "f1 poisoned: 0.92\n",
      "running experiment: 1\n",
      "poisoning percentage: 10\n",
      "4/4 [==============================] - 0s 1ms/step - loss: 0.1263 - accuracy: 0.9320\n",
      "4/4 [==============================] - 0s 1ms/step - loss: 0.1382 - accuracy: 0.9709\n",
      "4/4 [==============================] - 0s 2ms/step\n",
      "4/4 [==============================] - 0s 987us/step\n",
      "accuracy original: 0.93\n",
      "accuracy poisoned: 0.97\n",
      "f1 original: 0.82\n",
      "f1 poisoned: 0.92\n",
      "poisoning percentage: 25\n",
      "4/4 [==============================] - 0s 3ms/step - loss: 0.1339 - accuracy: 0.9515\n",
      "4/4 [==============================] - 0s 2ms/step - loss: 0.1535 - accuracy: 0.9515\n",
      "4/4 [==============================] - 0s 1ms/step\n",
      "4/4 [==============================] - 0s 1ms/step\n",
      "accuracy original: 0.95\n",
      "accuracy poisoned: 0.95\n",
      "f1 original: 0.88\n",
      "f1 poisoned: 0.86\n",
      "poisoning percentage: 50\n",
      "4/4 [==============================] - 0s 988us/step - loss: 0.1455 - accuracy: 0.9320\n",
      "4/4 [==============================] - 0s 1ms/step - loss: 0.1485 - accuracy: 0.9515\n",
      "4/4 [==============================] - 0s 1ms/step\n",
      "4/4 [==============================] - 0s 1ms/step\n",
      "accuracy original: 0.93\n",
      "accuracy poisoned: 0.95\n",
      "f1 original: 0.86\n",
      "f1 poisoned: 0.90\n",
      "poisoning percentage: 75\n",
      "4/4 [==============================] - 0s 2ms/step - loss: 0.1306 - accuracy: 0.9612\n",
      "4/4 [==============================] - 0s 1ms/step - loss: 0.1260 - accuracy: 0.9612\n",
      "4/4 [==============================] - 0s 1ms/step\n",
      "4/4 [==============================] - 0s 1ms/step\n",
      "accuracy original: 0.96\n",
      "accuracy poisoned: 0.96\n",
      "f1 original: 0.89\n",
      "f1 poisoned: 0.90\n",
      "poisoning percentage: 100\n",
      "4/4 [==============================] - 0s 1ms/step - loss: 0.1268 - accuracy: 0.9612\n",
      "4/4 [==============================] - 0s 1ms/step - loss: 0.1574 - accuracy: 0.9417\n",
      "4/4 [==============================] - 0s 1000us/step\n",
      "4/4 [==============================] - 0s 1ms/step\n",
      "accuracy original: 0.96\n",
      "accuracy poisoned: 0.94\n",
      "f1 original: 0.92\n",
      "f1 poisoned: 0.87\n",
      "running experiment: 2\n",
      "poisoning percentage: 10\n",
      "4/4 [==============================] - 0s 1ms/step - loss: 0.1586 - accuracy: 0.9223\n",
      "4/4 [==============================] - 0s 1ms/step - loss: 0.0678 - accuracy: 0.9612\n",
      "4/4 [==============================] - 0s 999us/step\n",
      "4/4 [==============================] - 0s 1ms/step\n",
      "accuracy original: 0.92\n",
      "accuracy poisoned: 0.96\n",
      "f1 original: 0.84\n",
      "f1 poisoned: 0.90\n",
      "poisoning percentage: 25\n",
      "4/4 [==============================] - 0s 1ms/step - loss: 0.1419 - accuracy: 0.9515\n",
      "4/4 [==============================] - 0s 1ms/step - loss: 0.0895 - accuracy: 0.9515\n",
      "4/4 [==============================] - 0s 1000us/step\n",
      "4/4 [==============================] - 0s 1ms/step\n",
      "accuracy original: 0.95\n",
      "accuracy poisoned: 0.95\n",
      "f1 original: 0.87\n",
      "f1 poisoned: 0.90\n",
      "poisoning percentage: 50\n",
      "4/4 [==============================] - 0s 2ms/step - loss: 0.1666 - accuracy: 0.9417\n",
      "4/4 [==============================] - 0s 2ms/step - loss: 0.1056 - accuracy: 0.9515\n",
      "4/4 [==============================] - 0s 1ms/step\n",
      "4/4 [==============================] - 0s 1ms/step\n",
      "accuracy original: 0.94\n",
      "accuracy poisoned: 0.95\n",
      "f1 original: 0.85\n",
      "f1 poisoned: 0.89\n",
      "poisoning percentage: 75\n",
      "4/4 [==============================] - 0s 1ms/step - loss: 0.1210 - accuracy: 0.9515\n",
      "4/4 [==============================] - 0s 2ms/step - loss: 0.1447 - accuracy: 0.9612\n",
      "4/4 [==============================] - 0s 1ms/step\n",
      "4/4 [==============================] - 0s 1ms/step\n",
      "accuracy original: 0.95\n",
      "accuracy poisoned: 0.96\n",
      "f1 original: 0.89\n",
      "f1 poisoned: 0.90\n",
      "poisoning percentage: 100\n",
      "4/4 [==============================] - 0s 1ms/step - loss: 0.1111 - accuracy: 0.9612\n",
      "4/4 [==============================] - 0s 1000us/step - loss: 0.1462 - accuracy: 0.9417\n",
      "4/4 [==============================] - 0s 1ms/step\n",
      "4/4 [==============================] - 0s 985us/step\n",
      "accuracy original: 0.96\n",
      "accuracy poisoned: 0.94\n",
      "f1 original: 0.93\n",
      "f1 poisoned: 0.87\n",
      "running experiment: 3\n",
      "poisoning percentage: 10\n",
      "4/4 [==============================] - 0s 1ms/step - loss: 0.0843 - accuracy: 0.9709\n",
      "4/4 [==============================] - 0s 987us/step - loss: 0.1670 - accuracy: 0.9612\n",
      "4/4 [==============================] - 0s 988us/step\n",
      "4/4 [==============================] - 0s 989us/step\n",
      "accuracy original: 0.97\n",
      "accuracy poisoned: 0.96\n",
      "f1 original: 0.96\n",
      "f1 poisoned: 0.89\n",
      "poisoning percentage: 25\n",
      "4/4 [==============================] - 0s 1ms/step - loss: 0.0978 - accuracy: 0.9417\n",
      "4/4 [==============================] - 0s 1ms/step - loss: 0.1118 - accuracy: 0.9515\n",
      "4/4 [==============================] - 0s 1ms/step\n",
      "4/4 [==============================] - 0s 1ms/step\n",
      "accuracy original: 0.94\n",
      "accuracy poisoned: 0.95\n",
      "f1 original: 0.87\n",
      "f1 poisoned: 0.86\n",
      "poisoning percentage: 50\n",
      "4/4 [==============================] - 0s 1ms/step - loss: 0.1425 - accuracy: 0.9417\n",
      "4/4 [==============================] - 0s 1ms/step - loss: 0.1617 - accuracy: 0.9612\n",
      "4/4 [==============================] - 0s 1ms/step\n",
      "4/4 [==============================] - 0s 1ms/step\n",
      "accuracy original: 0.94\n",
      "accuracy poisoned: 0.96\n",
      "f1 original: 0.86\n",
      "f1 poisoned: 0.87\n",
      "poisoning percentage: 75\n",
      "4/4 [==============================] - 0s 1ms/step - loss: 0.1473 - accuracy: 0.9417\n",
      "4/4 [==============================] - 0s 2ms/step - loss: 0.1728 - accuracy: 0.9417\n",
      "4/4 [==============================] - 0s 1ms/step\n",
      "4/4 [==============================] - 0s 1ms/step\n",
      "accuracy original: 0.94\n",
      "accuracy poisoned: 0.94\n",
      "f1 original: 0.90\n",
      "f1 poisoned: 0.82\n",
      "poisoning percentage: 100\n",
      "4/4 [==============================] - 0s 1ms/step - loss: 0.1484 - accuracy: 0.9515\n",
      "4/4 [==============================] - 0s 1ms/step - loss: 0.1275 - accuracy: 0.9417\n",
      "4/4 [==============================] - 0s 1ms/step\n",
      "4/4 [==============================] - 0s 1ms/step\n",
      "accuracy original: 0.95\n",
      "accuracy poisoned: 0.94\n",
      "f1 original: 0.82\n",
      "f1 poisoned: 0.86\n",
      "running experiment: 4\n",
      "poisoning percentage: 10\n",
      "4/4 [==============================] - 0s 2ms/step - loss: 0.1332 - accuracy: 0.9417\n",
      "4/4 [==============================] - 0s 2ms/step - loss: 0.1257 - accuracy: 0.9612\n",
      "4/4 [==============================] - 0s 2ms/step\n",
      "4/4 [==============================] - 0s 2ms/step\n",
      "accuracy original: 0.94\n",
      "accuracy poisoned: 0.96\n",
      "f1 original: 0.89\n",
      "f1 poisoned: 0.89\n",
      "poisoning percentage: 25\n",
      "4/4 [==============================] - 0s 1ms/step - loss: 0.1200 - accuracy: 0.9515\n",
      "4/4 [==============================] - 0s 2ms/step - loss: 0.0983 - accuracy: 0.9515\n",
      "4/4 [==============================] - 0s 1ms/step\n",
      "4/4 [==============================] - 0s 1ms/step\n",
      "accuracy original: 0.95\n",
      "accuracy poisoned: 0.95\n",
      "f1 original: 0.93\n",
      "f1 poisoned: 0.91\n",
      "poisoning percentage: 50\n",
      "4/4 [==============================] - 0s 1ms/step - loss: 0.1462 - accuracy: 0.9320\n",
      "4/4 [==============================] - 0s 1000us/step - loss: 0.1138 - accuracy: 0.9417\n",
      "4/4 [==============================] - 0s 1ms/step\n",
      "4/4 [==============================] - 0s 1ms/step\n",
      "accuracy original: 0.93\n",
      "accuracy poisoned: 0.94\n",
      "f1 original: 0.88\n",
      "f1 poisoned: 0.86\n",
      "poisoning percentage: 75\n",
      "4/4 [==============================] - 0s 2ms/step - loss: 0.1324 - accuracy: 0.9515\n",
      "4/4 [==============================] - 0s 1ms/step - loss: 0.1759 - accuracy: 0.9417\n",
      "4/4 [==============================] - 0s 1ms/step\n",
      "4/4 [==============================] - 0s 1000us/step\n",
      "accuracy original: 0.95\n",
      "accuracy poisoned: 0.94\n",
      "f1 original: 0.89\n",
      "f1 poisoned: 0.87\n",
      "poisoning percentage: 100\n",
      "4/4 [==============================] - 0s 3ms/step - loss: 0.1231 - accuracy: 0.9612\n",
      "4/4 [==============================] - 0s 2ms/step - loss: 0.1191 - accuracy: 0.9515\n",
      "4/4 [==============================] - 0s 4ms/step\n",
      "4/4 [==============================] - 0s 2ms/step\n",
      "accuracy original: 0.96\n",
      "accuracy poisoned: 0.95\n",
      "f1 original: 0.90\n",
      "f1 poisoned: 0.88\n"
     ]
    }
   ],
   "source": [
    "impacts_existing, complexity_existing = get_impact_over_range_of_poisoning(poison_range=[10,25,50,75,100], num_exp=5, poison_type='existing_example',target_bias_class=None)"
   ]
  },
  {
   "cell_type": "code",
   "execution_count": null,
   "metadata": {},
   "outputs": [
    {
     "name": "stdout",
     "output_type": "stream",
     "text": [
      "running experiment: 0\n",
      "poisoning percentage: 10\n",
      "True\n",
      "4/4 [==============================] - 0s 2ms/step - loss: 0.1305 - accuracy: 0.9709\n",
      "4/4 [==============================] - 0s 1ms/step - loss: 0.1375 - accuracy: 0.9515\n",
      "4/4 [==============================] - 0s 2ms/step\n",
      "4/4 [==============================] - 0s 1ms/step\n",
      "accuracy original: 0.97\n",
      "accuracy poisoned: 0.95\n",
      "f1 original: 0.87\n",
      "f1 poisoned: 0.90\n",
      "poisoning percentage: 25\n",
      "True\n",
      "4/4 [==============================] - 0s 1ms/step - loss: 0.0917 - accuracy: 0.9709\n",
      "4/4 [==============================] - 0s 1ms/step - loss: 0.2031 - accuracy: 0.9029\n",
      "4/4 [==============================] - 0s 1ms/step\n",
      "4/4 [==============================] - 0s 1ms/step\n",
      "accuracy original: 0.97\n",
      "accuracy poisoned: 0.90\n",
      "f1 original: 0.96\n",
      "f1 poisoned: 0.75\n",
      "poisoning percentage: 50\n",
      "True\n",
      "4/4 [==============================] - 0s 2ms/step - loss: 0.0577 - accuracy: 0.9612\n",
      "4/4 [==============================] - 0s 1ms/step - loss: 0.2204 - accuracy: 0.8155\n",
      "4/4 [==============================] - 0s 1000us/step\n",
      "4/4 [==============================] - 0s 1ms/step\n",
      "accuracy original: 0.96\n",
      "accuracy poisoned: 0.82\n",
      "f1 original: 0.93\n",
      "f1 poisoned: 0.44\n",
      "poisoning percentage: 75\n",
      "True\n",
      "4/4 [==============================] - 0s 2ms/step - loss: 0.1007 - accuracy: 0.9806\n",
      "4/4 [==============================] - 0s 1ms/step - loss: 0.2976 - accuracy: 0.8058\n",
      "4/4 [==============================] - 0s 1ms/step\n",
      "4/4 [==============================] - 0s 1ms/step\n",
      "accuracy original: 0.98\n",
      "accuracy poisoned: 0.81\n",
      "f1 original: 0.94\n",
      "f1 poisoned: 0.47\n",
      "poisoning percentage: 100\n",
      "True\n",
      "4/4 [==============================] - 0s 2ms/step - loss: 0.1341 - accuracy: 0.9515\n",
      "4/4 [==============================] - 0s 3ms/step - loss: 0.3795 - accuracy: 0.7767\n",
      "4/4 [==============================] - 0s 2ms/step\n",
      "4/4 [==============================] - 0s 1ms/step\n",
      "accuracy original: 0.95\n",
      "accuracy poisoned: 0.78\n",
      "f1 original: 0.90\n",
      "f1 poisoned: 0.29\n",
      "running experiment: 1\n",
      "poisoning percentage: 10\n",
      "True\n",
      "4/4 [==============================] - 0s 3ms/step - loss: 0.1339 - accuracy: 0.9709\n",
      "4/4 [==============================] - 0s 3ms/step - loss: 0.1050 - accuracy: 0.9515\n",
      "4/4 [==============================] - 0s 2ms/step\n",
      "4/4 [==============================] - 0s 1ms/step\n",
      "accuracy original: 0.97\n",
      "accuracy poisoned: 0.95\n",
      "f1 original: 0.93\n",
      "f1 poisoned: 0.91\n",
      "poisoning percentage: 25\n",
      "True\n",
      "4/4 [==============================] - 0s 2ms/step - loss: 0.1454 - accuracy: 0.9612\n",
      "4/4 [==============================] - 0s 2ms/step - loss: 0.1451 - accuracy: 0.9223\n",
      "4/4 [==============================] - 0s 2ms/step\n",
      "4/4 [==============================] - 0s 2ms/step\n",
      "accuracy original: 0.96\n",
      "accuracy poisoned: 0.92\n",
      "f1 original: 0.90\n",
      "f1 poisoned: 0.86\n",
      "poisoning percentage: 50\n",
      "True\n",
      "4/4 [==============================] - 0s 3ms/step - loss: 0.1164 - accuracy: 0.9709\n",
      "4/4 [==============================] - 0s 2ms/step - loss: 0.3016 - accuracy: 0.8058\n",
      "4/4 [==============================] - 0s 2ms/step\n",
      "4/4 [==============================] - 0s 3ms/step\n",
      "accuracy original: 0.97\n",
      "accuracy poisoned: 0.81\n",
      "f1 original: 0.92\n",
      "f1 poisoned: 0.46\n",
      "poisoning percentage: 75\n",
      "True\n",
      "4/4 [==============================] - 0s 2ms/step - loss: 0.1116 - accuracy: 0.9515\n",
      "4/4 [==============================] - 0s 2ms/step - loss: 0.3824 - accuracy: 0.7961\n",
      "4/4 [==============================] - 0s 1ms/step\n",
      "4/4 [==============================] - 0s 3ms/step\n",
      "accuracy original: 0.95\n",
      "accuracy poisoned: 0.80\n",
      "f1 original: 0.91\n",
      "f1 poisoned: 0.37\n",
      "poisoning percentage: 100\n",
      "True\n",
      "4/4 [==============================] - 0s 2ms/step - loss: 0.0910 - accuracy: 0.9709\n",
      "4/4 [==============================] - 0s 2ms/step - loss: 0.3122 - accuracy: 0.8155\n",
      "4/4 [==============================] - 0s 2ms/step\n",
      "4/4 [==============================] - 0s 2ms/step\n",
      "accuracy original: 0.97\n",
      "accuracy poisoned: 0.82\n",
      "f1 original: 0.97\n",
      "f1 poisoned: 0.40\n",
      "running experiment: 2\n",
      "poisoning percentage: 10\n",
      "True\n",
      "4/4 [==============================] - 0s 2ms/step - loss: 0.0952 - accuracy: 0.9515\n",
      "4/4 [==============================] - 0s 2ms/step - loss: 0.1146 - accuracy: 0.9709\n",
      "4/4 [==============================] - 0s 2ms/step\n",
      "4/4 [==============================] - 0s 2ms/step\n",
      "accuracy original: 0.95\n",
      "accuracy poisoned: 0.97\n",
      "f1 original: 0.87\n",
      "f1 poisoned: 0.95\n",
      "poisoning percentage: 25\n",
      "True\n",
      "4/4 [==============================] - 0s 3ms/step - loss: 0.1086 - accuracy: 0.9612\n",
      "4/4 [==============================] - 0s 2ms/step - loss: 0.1928 - accuracy: 0.9320\n",
      "4/4 [==============================] - 0s 3ms/step\n",
      "4/4 [==============================] - 0s 3ms/step\n",
      "accuracy original: 0.96\n",
      "accuracy poisoned: 0.93\n",
      "f1 original: 0.92\n",
      "f1 poisoned: 0.79\n",
      "poisoning percentage: 50\n",
      "True\n",
      "4/4 [==============================] - 0s 2ms/step - loss: 0.0661 - accuracy: 0.9709\n",
      "4/4 [==============================] - 0s 2ms/step - loss: 0.2854 - accuracy: 0.8252\n",
      "4/4 [==============================] - 0s 1ms/step\n",
      "4/4 [==============================] - 0s 2ms/step\n",
      "accuracy original: 0.97\n",
      "accuracy poisoned: 0.83\n",
      "f1 original: 0.94\n",
      "f1 poisoned: 0.46\n",
      "poisoning percentage: 75\n",
      "True\n",
      "4/4 [==============================] - 0s 2ms/step - loss: 0.1171 - accuracy: 0.9612\n",
      "4/4 [==============================] - 0s 2ms/step - loss: 0.3145 - accuracy: 0.7767\n",
      "4/4 [==============================] - 0s 2ms/step\n",
      "4/4 [==============================] - 0s 1ms/step\n",
      "accuracy original: 0.96\n",
      "accuracy poisoned: 0.78\n",
      "f1 original: 0.93\n",
      "f1 poisoned: 0.30\n",
      "poisoning percentage: 100\n",
      "True\n",
      "4/4 [==============================] - 0s 2ms/step - loss: 0.0922 - accuracy: 0.9515\n",
      "4/4 [==============================] - 0s 3ms/step - loss: 0.3856 - accuracy: 0.7670\n",
      "4/4 [==============================] - 0s 2ms/step\n",
      "4/4 [==============================] - 0s 2ms/step\n",
      "accuracy original: 0.95\n",
      "accuracy poisoned: 0.77\n",
      "f1 original: 0.87\n",
      "f1 poisoned: 0.29\n",
      "running experiment: 3\n",
      "poisoning percentage: 10\n",
      "True\n",
      "4/4 [==============================] - 0s 1ms/step - loss: 0.1113 - accuracy: 0.9709\n",
      "4/4 [==============================] - 0s 1ms/step - loss: 0.1657 - accuracy: 0.9223\n",
      "4/4 [==============================] - 0s 1ms/step\n",
      "4/4 [==============================] - 0s 2ms/step\n",
      "accuracy original: 0.97\n",
      "accuracy poisoned: 0.92\n",
      "f1 original: 0.93\n",
      "f1 poisoned: 0.79\n",
      "poisoning percentage: 25\n",
      "True\n",
      "4/4 [==============================] - 0s 1ms/step - loss: 0.1215 - accuracy: 0.9126\n",
      "4/4 [==============================] - 0s 1ms/step - loss: 0.1478 - accuracy: 0.9126\n",
      "4/4 [==============================] - 0s 1ms/step\n",
      "4/4 [==============================] - 0s 1ms/step\n",
      "accuracy original: 0.91\n",
      "accuracy poisoned: 0.91\n",
      "f1 original: 0.77\n",
      "f1 poisoned: 0.73\n",
      "poisoning percentage: 50\n",
      "True\n",
      "4/4 [==============================] - 0s 1ms/step - loss: 0.0883 - accuracy: 0.9612\n",
      "4/4 [==============================] - 0s 1ms/step - loss: 0.2922 - accuracy: 0.8350\n",
      "4/4 [==============================] - 0s 999us/step\n",
      "4/4 [==============================] - 0s 1ms/step\n",
      "accuracy original: 0.96\n",
      "accuracy poisoned: 0.83\n",
      "f1 original: 0.91\n",
      "f1 poisoned: 0.58\n",
      "poisoning percentage: 75\n",
      "True\n",
      "4/4 [==============================] - 0s 1ms/step - loss: 0.1141 - accuracy: 0.9806\n",
      "4/4 [==============================] - 0s 1ms/step - loss: 0.4028 - accuracy: 0.7767\n",
      "4/4 [==============================] - 0s 999us/step\n",
      "4/4 [==============================] - 0s 1ms/step\n",
      "accuracy original: 0.98\n",
      "accuracy poisoned: 0.78\n",
      "f1 original: 0.93\n",
      "f1 poisoned: 0.29\n",
      "poisoning percentage: 100\n",
      "True\n",
      "4/4 [==============================] - 0s 1ms/step - loss: 0.0831 - accuracy: 0.9515\n",
      "4/4 [==============================] - 0s 1ms/step - loss: 0.3601 - accuracy: 0.7767\n",
      "4/4 [==============================] - 0s 1ms/step\n",
      "4/4 [==============================] - 0s 1ms/step\n",
      "accuracy original: 0.95\n",
      "accuracy poisoned: 0.78\n",
      "f1 original: 0.92\n",
      "f1 poisoned: 0.30\n",
      "running experiment: 4\n",
      "poisoning percentage: 10\n",
      "True\n",
      "4/4 [==============================] - 0s 2ms/step - loss: 0.1098 - accuracy: 0.9709\n",
      "4/4 [==============================] - 0s 991us/step - loss: 0.1193 - accuracy: 0.9417\n",
      "4/4 [==============================] - 0s 999us/step\n",
      "4/4 [==============================] - 0s 675us/step\n",
      "accuracy original: 0.97\n",
      "accuracy poisoned: 0.94\n",
      "f1 original: 0.95\n",
      "f1 poisoned: 0.86\n",
      "poisoning percentage: 25\n",
      "True\n",
      "4/4 [==============================] - 0s 986us/step - loss: 0.0941 - accuracy: 0.9612\n",
      "4/4 [==============================] - 0s 2ms/step - loss: 0.2528 - accuracy: 0.8350\n",
      "4/4 [==============================] - 0s 2ms/step\n",
      "4/4 [==============================] - 0s 1ms/step\n",
      "accuracy original: 0.96\n",
      "accuracy poisoned: 0.83\n",
      "f1 original: 0.93\n",
      "f1 poisoned: 0.53\n",
      "poisoning percentage: 50\n",
      "True\n",
      "4/4 [==============================] - 0s 1ms/step - loss: 0.0809 - accuracy: 0.9417\n",
      "4/4 [==============================] - 0s 1ms/step - loss: 0.1880 - accuracy: 0.8932\n",
      "4/4 [==============================] - 0s 1ms/step\n",
      "4/4 [==============================] - 0s 999us/step\n",
      "accuracy original: 0.94\n",
      "accuracy poisoned: 0.89\n",
      "f1 original: 0.86\n",
      "f1 poisoned: 0.62\n",
      "poisoning percentage: 75\n",
      "True\n",
      "4/4 [==============================] - 0s 1ms/step - loss: 0.0899 - accuracy: 0.9709\n",
      "4/4 [==============================] - 0s 1ms/step - loss: 0.3739 - accuracy: 0.8155\n",
      "4/4 [==============================] - 0s 1000us/step\n",
      "4/4 [==============================] - 0s 1000us/step\n",
      "accuracy original: 0.97\n",
      "accuracy poisoned: 0.82\n",
      "f1 original: 0.96\n",
      "f1 poisoned: 0.40\n",
      "poisoning percentage: 100\n",
      "True\n",
      "4/4 [==============================] - 0s 2ms/step - loss: 0.1678 - accuracy: 0.9515\n",
      "4/4 [==============================] - 0s 1ms/step - loss: 0.4506 - accuracy: 0.7767\n",
      "4/4 [==============================] - 0s 1ms/step\n",
      "4/4 [==============================] - 0s 1ms/step\n",
      "accuracy original: 0.95\n",
      "accuracy poisoned: 0.78\n",
      "f1 original: 0.88\n",
      "f1 poisoned: 0.29\n"
     ]
    }
   ],
   "source": [
    "impacts_swap, complexity_swap = get_impact_over_range_of_poisoning(poison_range=[10,25,50,75,100], num_exp=5, poison_type='random_swapping',target_bias_class=None)"
   ]
  },
  {
   "cell_type": "code",
   "execution_count": null,
   "metadata": {},
   "outputs": [
    {
     "name": "stdout",
     "output_type": "stream",
     "text": [
      "running experiment: 0\n",
      "poisoning percentage: 10\n",
      "4/4 [==============================] - 0s 1ms/step - loss: 0.0803 - accuracy: 0.9806\n",
      "4/4 [==============================] - 0s 1ms/step - loss: 0.1296 - accuracy: 0.9515\n",
      "4/4 [==============================] - 0s 1ms/step\n",
      "4/4 [==============================] - 0s 1ms/step\n",
      "accuracy original: 0.98\n",
      "accuracy poisoned: 0.95\n",
      "f1 original: 0.91\n",
      "f1 poisoned: 0.91\n",
      "poisoning percentage: 25\n",
      "4/4 [==============================] - 0s 1ms/step - loss: 0.0960 - accuracy: 0.9806\n",
      "4/4 [==============================] - 0s 1ms/step - loss: 0.2025 - accuracy: 0.9709\n",
      "4/4 [==============================] - 0s 1ms/step\n",
      "4/4 [==============================] - 0s 1ms/step\n",
      "accuracy original: 0.98\n",
      "accuracy poisoned: 0.97\n",
      "f1 original: 0.95\n",
      "f1 poisoned: 0.93\n",
      "poisoning percentage: 50\n",
      "4/4 [==============================] - 0s 1ms/step - loss: 0.0782 - accuracy: 0.9709\n",
      "4/4 [==============================] - 0s 1ms/step - loss: 0.3930 - accuracy: 0.6796\n",
      "4/4 [==============================] - 0s 1ms/step\n",
      "4/4 [==============================] - 0s 999us/step\n",
      "accuracy original: 0.97\n",
      "accuracy poisoned: 0.68\n",
      "f1 original: 0.89\n",
      "f1 poisoned: 0.43\n",
      "poisoning percentage: 75\n",
      "4/4 [==============================] - 0s 2ms/step - loss: 0.1379 - accuracy: 0.9417\n",
      "4/4 [==============================] - 0s 1ms/step - loss: 0.5486 - accuracy: 0.3592\n",
      "4/4 [==============================] - 0s 1ms/step\n",
      "4/4 [==============================] - 0s 1ms/step\n",
      "accuracy original: 0.94\n",
      "accuracy poisoned: 0.36\n",
      "f1 original: 0.87\n",
      "f1 poisoned: 0.35\n",
      "poisoning percentage: 100\n",
      "4/4 [==============================] - 0s 1ms/step - loss: 0.0549 - accuracy: 0.9612\n",
      "4/4 [==============================] - 0s 2ms/step - loss: 0.6265 - accuracy: 0.2913\n",
      "4/4 [==============================] - 0s 2ms/step\n",
      "4/4 [==============================] - 0s 1ms/step\n",
      "accuracy original: 0.96\n",
      "accuracy poisoned: 0.29\n",
      "f1 original: 0.92\n",
      "f1 poisoned: 0.23\n",
      "running experiment: 1\n",
      "poisoning percentage: 10\n",
      "4/4 [==============================] - 0s 999us/step - loss: 0.1066 - accuracy: 0.9515\n",
      "4/4 [==============================] - 0s 1ms/step - loss: 0.0985 - accuracy: 0.9709\n",
      "4/4 [==============================] - 0s 1ms/step\n",
      "4/4 [==============================] - 0s 1ms/step\n",
      "accuracy original: 0.95\n",
      "accuracy poisoned: 0.97\n",
      "f1 original: 0.89\n",
      "f1 poisoned: 0.96\n",
      "poisoning percentage: 25\n",
      "4/4 [==============================] - 0s 2ms/step - loss: 0.0823 - accuracy: 0.9709\n",
      "4/4 [==============================] - 0s 999us/step - loss: 0.2013 - accuracy: 0.9515\n",
      "4/4 [==============================] - 0s 1ms/step\n",
      "4/4 [==============================] - 0s 1ms/step\n",
      "accuracy original: 0.97\n",
      "accuracy poisoned: 0.95\n",
      "f1 original: 0.90\n",
      "f1 poisoned: 0.83\n",
      "poisoning percentage: 50\n",
      "4/4 [==============================] - 0s 1ms/step - loss: 0.0737 - accuracy: 0.9709\n",
      "4/4 [==============================] - 0s 1ms/step - loss: 0.2721 - accuracy: 0.8447\n",
      "4/4 [==============================] - 0s 998us/step\n",
      "4/4 [==============================] - 0s 1ms/step\n",
      "accuracy original: 0.97\n",
      "accuracy poisoned: 0.84\n",
      "f1 original: 0.88\n",
      "f1 poisoned: 0.78\n",
      "poisoning percentage: 75\n",
      "4/4 [==============================] - 0s 1ms/step - loss: 0.0952 - accuracy: 0.9709\n",
      "4/4 [==============================] - 0s 1ms/step - loss: 0.5844 - accuracy: 0.5049\n",
      "4/4 [==============================] - 0s 999us/step\n",
      "4/4 [==============================] - 0s 1ms/step\n",
      "accuracy original: 0.97\n",
      "accuracy poisoned: 0.50\n",
      "f1 original: 0.94\n",
      "f1 poisoned: 0.42\n",
      "poisoning percentage: 100\n",
      "4/4 [==============================] - 0s 2ms/step - loss: 0.0849 - accuracy: 0.9612\n",
      "4/4 [==============================] - 0s 986us/step - loss: 0.5934 - accuracy: 0.4854\n",
      "4/4 [==============================] - 0s 1ms/step\n",
      "4/4 [==============================] - 0s 1ms/step\n",
      "accuracy original: 0.96\n",
      "accuracy poisoned: 0.49\n",
      "f1 original: 0.90\n",
      "f1 poisoned: 0.33\n",
      "running experiment: 2\n",
      "poisoning percentage: 10\n",
      "4/4 [==============================] - 0s 1ms/step - loss: 0.0811 - accuracy: 0.9903\n",
      "4/4 [==============================] - 0s 999us/step - loss: 0.0891 - accuracy: 0.9806\n",
      "4/4 [==============================] - 0s 996us/step\n",
      "4/4 [==============================] - 0s 1ms/step\n",
      "accuracy original: 0.99\n",
      "accuracy poisoned: 0.98\n",
      "f1 original: 0.97\n",
      "f1 poisoned: 0.97\n",
      "poisoning percentage: 25\n",
      "4/4 [==============================] - 0s 1ms/step - loss: 0.0900 - accuracy: 0.9612\n",
      "4/4 [==============================] - 0s 2ms/step - loss: 0.1944 - accuracy: 0.9806\n",
      "4/4 [==============================] - 0s 1ms/step\n",
      "4/4 [==============================] - 0s 1ms/step\n",
      "accuracy original: 0.96\n",
      "accuracy poisoned: 0.98\n",
      "f1 original: 0.91\n",
      "f1 poisoned: 0.94\n",
      "poisoning percentage: 50\n",
      "4/4 [==============================] - 0s 1ms/step - loss: 0.1187 - accuracy: 0.9515\n",
      "4/4 [==============================] - 0s 1ms/step - loss: 0.4012 - accuracy: 0.6893\n",
      "4/4 [==============================] - 0s 1ms/step\n",
      "4/4 [==============================] - 0s 1ms/step\n",
      "accuracy original: 0.95\n",
      "accuracy poisoned: 0.69\n",
      "f1 original: 0.91\n",
      "f1 poisoned: 0.63\n",
      "poisoning percentage: 75\n",
      "4/4 [==============================] - 0s 1ms/step - loss: 0.0947 - accuracy: 0.9612\n",
      "4/4 [==============================] - 0s 1ms/step - loss: 0.5016 - accuracy: 0.3592\n",
      "4/4 [==============================] - 0s 999us/step\n",
      "4/4 [==============================] - 0s 999us/step\n",
      "accuracy original: 0.96\n",
      "accuracy poisoned: 0.36\n",
      "f1 original: 0.91\n",
      "f1 poisoned: 0.41\n",
      "poisoning percentage: 100\n",
      "4/4 [==============================] - 0s 1ms/step - loss: 0.0746 - accuracy: 0.9612\n",
      "4/4 [==============================] - 0s 999us/step - loss: 0.5983 - accuracy: 0.2913\n",
      "4/4 [==============================] - 0s 1ms/step\n",
      "4/4 [==============================] - 0s 1ms/step\n",
      "accuracy original: 0.96\n",
      "accuracy poisoned: 0.29\n",
      "f1 original: 0.93\n",
      "f1 poisoned: 0.20\n",
      "running experiment: 3\n",
      "poisoning percentage: 10\n",
      "4/4 [==============================] - 0s 1ms/step - loss: 0.1529 - accuracy: 0.9515\n",
      "4/4 [==============================] - 0s 1ms/step - loss: 0.0925 - accuracy: 0.9903\n",
      "4/4 [==============================] - 0s 985us/step\n",
      "4/4 [==============================] - 0s 1000us/step\n",
      "accuracy original: 0.95\n",
      "accuracy poisoned: 0.99\n",
      "f1 original: 0.88\n",
      "f1 poisoned: 0.95\n",
      "poisoning percentage: 25\n",
      "4/4 [==============================] - 0s 988us/step - loss: 0.1269 - accuracy: 0.9709\n",
      "4/4 [==============================] - 0s 1ms/step - loss: 0.2180 - accuracy: 0.9223\n",
      "4/4 [==============================] - 0s 1ms/step\n",
      "4/4 [==============================] - 0s 1ms/step\n",
      "accuracy original: 0.97\n",
      "accuracy poisoned: 0.92\n",
      "f1 original: 0.92\n",
      "f1 poisoned: 0.87\n",
      "poisoning percentage: 50\n",
      "4/4 [==============================] - 0s 1ms/step - loss: 0.1017 - accuracy: 0.9612\n",
      "4/4 [==============================] - 0s 1ms/step - loss: 0.3588 - accuracy: 0.8350\n",
      "4/4 [==============================] - 0s 2ms/step\n",
      "4/4 [==============================] - 0s 2ms/step\n",
      "accuracy original: 0.96\n",
      "accuracy poisoned: 0.83\n",
      "f1 original: 0.91\n",
      "f1 poisoned: 0.57\n",
      "poisoning percentage: 75\n",
      "4/4 [==============================] - 0s 1ms/step - loss: 0.1003 - accuracy: 0.9709\n",
      "4/4 [==============================] - 0s 1ms/step - loss: 0.5427 - accuracy: 0.3495\n",
      "4/4 [==============================] - 0s 2ms/step\n",
      "4/4 [==============================] - 0s 1ms/step\n",
      "accuracy original: 0.97\n",
      "accuracy poisoned: 0.35\n",
      "f1 original: 0.93\n",
      "f1 poisoned: 0.24\n",
      "poisoning percentage: 100\n",
      "4/4 [==============================] - 0s 1ms/step - loss: 0.1214 - accuracy: 0.9612\n",
      "4/4 [==============================] - 0s 1ms/step - loss: 0.6531 - accuracy: 0.2330\n",
      "4/4 [==============================] - 0s 1ms/step\n",
      "4/4 [==============================] - 0s 1ms/step\n",
      "accuracy original: 0.96\n",
      "accuracy poisoned: 0.23\n",
      "f1 original: 0.90\n",
      "f1 poisoned: 0.24\n",
      "running experiment: 4\n",
      "poisoning percentage: 10\n",
      "4/4 [==============================] - 0s 2ms/step - loss: 0.1149 - accuracy: 0.9806\n",
      "4/4 [==============================] - 0s 2ms/step - loss: 0.1067 - accuracy: 0.9612\n",
      "4/4 [==============================] - 0s 1ms/step\n",
      "4/4 [==============================] - 0s 1ms/step\n",
      "accuracy original: 0.98\n",
      "accuracy poisoned: 0.96\n",
      "f1 original: 0.94\n",
      "f1 poisoned: 0.90\n",
      "poisoning percentage: 25\n",
      "4/4 [==============================] - 0s 1000us/step - loss: 0.0551 - accuracy: 0.9709\n",
      "4/4 [==============================] - 0s 1ms/step - loss: 0.2399 - accuracy: 0.8835\n",
      "4/4 [==============================] - 0s 1ms/step\n",
      "4/4 [==============================] - 0s 999us/step\n",
      "accuracy original: 0.97\n",
      "accuracy poisoned: 0.88\n",
      "f1 original: 0.92\n",
      "f1 poisoned: 0.83\n",
      "poisoning percentage: 50\n",
      "4/4 [==============================] - 0s 2ms/step - loss: 0.0857 - accuracy: 0.9903\n",
      "4/4 [==============================] - 0s 1ms/step - loss: 0.3239 - accuracy: 0.8932\n",
      "4/4 [==============================] - 0s 1ms/step\n",
      "4/4 [==============================] - 0s 1ms/step\n",
      "accuracy original: 0.99\n",
      "accuracy poisoned: 0.89\n",
      "f1 original: 0.99\n",
      "f1 poisoned: 0.71\n",
      "poisoning percentage: 75\n",
      "4/4 [==============================] - 0s 1ms/step - loss: 0.1485 - accuracy: 0.9515\n",
      "4/4 [==============================] - 0s 1ms/step - loss: 0.5249 - accuracy: 0.4078\n",
      "4/4 [==============================] - 0s 1ms/step\n",
      "4/4 [==============================] - 0s 1ms/step\n",
      "accuracy original: 0.95\n",
      "accuracy poisoned: 0.41\n",
      "f1 original: 0.92\n",
      "f1 poisoned: 0.62\n",
      "poisoning percentage: 100\n",
      "4/4 [==============================] - 0s 1ms/step - loss: 0.1145 - accuracy: 0.9612\n",
      "4/4 [==============================] - 0s 1ms/step - loss: 0.7599 - accuracy: 0.2913\n",
      "4/4 [==============================] - 0s 1ms/step\n",
      "4/4 [==============================] - 0s 1ms/step\n",
      "accuracy original: 0.96\n",
      "accuracy poisoned: 0.29\n",
      "f1 original: 0.88\n",
      "f1 poisoned: 0.19\n"
     ]
    }
   ],
   "source": [
    "impacts_target, complexity_target = get_impact_over_range_of_poisoning(poison_range=[10,25,50,75,100], num_exp=5, poison_type='targeted_flipping',target_bias_class=[0,0,1])"
   ]
  },
  {
   "cell_type": "code",
   "execution_count": 480,
   "metadata": {},
   "outputs": [
    {
     "data": {
      "text/plain": [
       "array([ 0.07472062, -0.22295209, -0.01079293,  0.24661172, -0.08153526])"
      ]
     },
     "execution_count": 480,
     "metadata": {},
     "output_type": "execute_result"
    }
   ],
   "source": [
    "avg_existing"
   ]
  },
  {
   "cell_type": "code",
   "execution_count": 482,
   "metadata": {},
   "outputs": [
    {
     "data": {
      "text/plain": [
       "[[0.0967741935483871,\n",
       "  0.24731182795698925,\n",
       "  0.4982078853046595,\n",
       "  0.7491039426523297,\n",
       "  1.0],\n",
       " [0.0967741935483871,\n",
       "  0.24731182795698925,\n",
       "  0.4982078853046595,\n",
       "  0.7491039426523297,\n",
       "  1.0],\n",
       " [0.0967741935483871,\n",
       "  0.24731182795698925,\n",
       "  0.4982078853046595,\n",
       "  0.7491039426523297,\n",
       "  1.0],\n",
       " [0.0967741935483871,\n",
       "  0.24731182795698925,\n",
       "  0.4982078853046595,\n",
       "  0.7491039426523297,\n",
       "  1.0],\n",
       " [0.0967741935483871,\n",
       "  0.24731182795698925,\n",
       "  0.4982078853046595,\n",
       "  0.7491039426523297,\n",
       "  1.0]]"
      ]
     },
     "execution_count": 482,
     "metadata": {},
     "output_type": "execute_result"
    }
   ],
   "source": [
    "complexity_swap"
   ]
  },
  {
   "cell_type": "code",
   "execution_count": 479,
   "metadata": {},
   "outputs": [
    {
     "data": {
      "image/png": "[encoded data removed]",
      "text/plain": [
       "<Figure size 432x288 with 1 Axes>"
      ]
     },
     "metadata": {
      "needs_background": "light"
     },
     "output_type": "display_data"
    },
    {
     "data": {
      "image/png": "[encoded data removed]",
      "text/plain": [
       "<Figure size 432x288 with 1 Axes>"
      ]
     },
     "metadata": {
      "needs_background": "light"
     },
     "output_type": "display_data"
    },
    {
     "data": {
      "image/png": "[encoded data removed]",
      "text/plain": [
       "<Figure size 432x288 with 1 Axes>"
      ]
     },
     "metadata": {
      "needs_background": "light"
     },
     "output_type": "display_data"
    },
    {
     "data": {
      "image/png": "[encoded data removed]",
      "text/plain": [
       "<Figure size 432x288 with 1 Axes>"
      ]
     },
     "metadata": {
      "needs_background": "light"
     },
     "output_type": "display_data"
    }
   ],
   "source": [
    "avg_new=np.average(np.array(impacts_new), axis=0)\n",
    "stdev_new=np.std(np.array(impacts_new), axis=0)\n",
    "complexity_new_avg = np.average(np.array(complexity_new), axis=0)\n",
    "complexity_new_st = np.std(np.array(complexity_new), axis=0)\n",
    "\n",
    "\n",
    "avg_existing=np.average(np.array(impacts_existing), axis=0)\n",
    "stdev_existing=np.std(np.array(impacts_existing), axis=0)\n",
    "complexity_existing_avg = np.average(np.array(complexity_existing), axis=0)\n",
    "complexity_existing_st = np.std(np.array(complexity_existing_avg), axis=0)\n",
    "\n",
    "avg_swap=np.average(np.array(impacts_swap), axis=0)\n",
    "stdev_swap=np.std(np.array(impacts_swap), axis=0)\n",
    "complexity_swap_avg = np.average(np.array(complexity_swap), axis=0)\n",
    "complexity_swap_st = np.std(np.array(complexity_swap), axis=0)\n",
    "\n",
    "avg_target=np.average(np.array(impacts_target), axis=0)\n",
    "stdev_target=np.std(np.array(impacts_target), axis=0)\n",
    "complexity_target_avg = np.average(np.array(complexity_target), axis=0)\n",
    "complexity_target_st = np.std(np.array(complexity_target), axis=0)\n",
    "\n",
    "draw_graph(x=[10,25,50,75,100], y_list = [avg_new], \n",
    "           err_list = [stdev_new], xlabel = \"Poison percentage\", \n",
    "           ylabel = \"Impact\", xlim=[10,100], ylim=[0,max(avg_new)+max(stdev_new)], \n",
    "           is_legend=False, facecolor_list=['#2C3E50','#6C3483','#27AE60','#E67E22'], \n",
    "           edgecolor_list=['#F9EBEA','#F8F9F9','#EBF5FB','#E9F7EF'], alpha=0.1, thresh_on=False)\n",
    "\n",
    "\n",
    "draw_graph(x=[10,25,50,75,100], y_list = [avg_existing], \n",
    "           err_list = [stdev_existing], xlabel = \"Poison percentage\", \n",
    "           ylabel = \"Impact\", xlim=[10,100], ylim=[0,max(avg_existing)+max(stdev_existing)], \n",
    "           is_legend=False, facecolor_list=['#2C3E50','#6C3483','#27AE60','#E67E22'], \n",
    "           edgecolor_list=['#F9EBEA','#F8F9F9','#EBF5FB','#E9F7EF'], alpha=0.1, thresh_on=False)\n",
    "\n",
    "\n",
    "draw_graph(x=[10,25,50,75,100], y_list = [avg_swap], \n",
    "           err_list = [stdev_swap], xlabel = \"Poison percentage\", \n",
    "           ylabel = \"Impact\", xlim=[10,100], ylim=[0,max(avg_swap)+max(stdev_swap)], \n",
    "           is_legend=False, facecolor_list=['#2C3E50','#6C3483','#27AE60','#E67E22'], \n",
    "           edgecolor_list=['#F9EBEA','#F8F9F9','#EBF5FB','#E9F7EF'], alpha=0.1, thresh_on=False)\n",
    "\n",
    "draw_graph(x=[10,25,50,75,100], y_list = [avg_target], \n",
    "           err_list = [stdev_target], xlabel = \"Poison percentage\", \n",
    "           ylabel = \"Impact\", xlim=[10,100], ylim=[0,max(avg_target)+max(stdev_target)], \n",
    "           is_legend=False, facecolor_list=['#2C3E50','#6C3483','#27AE60','#E67E22'], \n",
    "           edgecolor_list=['#F9EBEA','#F8F9F9','#EBF5FB','#E9F7EF'], alpha=0.1, thresh_on=False)\n"
   ]
  },
  {
   "cell_type": "code",
   "execution_count": 352,
   "metadata": {},
   "outputs": [
    {
     "data": {
      "image/png": "[encoded data removed]",
      "text/plain": [
       "<Figure size 432x288 with 1 Axes>"
      ]
     },
     "metadata": {
      "needs_background": "light"
     },
     "output_type": "display_data"
    }
   ],
   "source": [
    "draw_graph(x=[10,25,50,75,100], y_list = [avg_new, avg_swap, avg_target], \n",
    "           err_list = [avg_new, avg_swap,stdev_target], label_list=['New poison data','Random swapping','Targeted poisoning'],\n",
    "            xlabel = \"Poison percentage\", \n",
    "           ylabel = \"Impact\", xlim=[10,100], ylim=[0,max(avg_swap)+max(stdev_swap)], \n",
    "           is_legend=True, alpha=0.1, thresh_on=False)"
   ]
  },
  {
   "cell_type": "code",
   "execution_count": 362,
   "metadata": {},
   "outputs": [],
   "source": [
    "impacts_new_2, complexity_new_2 = get_impact_over_range_of_poisoning(poison_range=[150,200], num_exp=5, poison_type='new_example',target_bias_class=None)\n",
    "avg_new_2=np.average(np.array(impacts_new_2), axis=0)\n",
    "stdev_new_2=np.std(np.array(impacts_new_2), axis=0)"
   ]
  },
  {
   "cell_type": "code",
   "execution_count": 363,
   "metadata": {},
   "outputs": [],
   "source": [
    "impacts_new_3, complexity_new_3 = get_impact_over_range_of_poisoning(poison_range=[300,500], num_exp=5, poison_type='new_example',target_bias_class=None)\n",
    "avg_new_3=np.average(np.array(impacts_new_3), axis=0)\n",
    "stdev_new_3=np.std(np.array(impacts_new_3), axis=0)"
   ]
  },
  {
   "cell_type": "code",
   "execution_count": 364,
   "metadata": {},
   "outputs": [],
   "source": [
    "impacts_new_4, complexity_new_4 = get_impact_over_range_of_poisoning(poison_range=[800,1000], num_exp=5, poison_type='new_example',target_bias_class=None)\n",
    "avg_new_4=np.average(np.array(impacts_new_4), axis=0)\n",
    "stdev_new_4=np.std(np.array(impacts_new_4), axis=0)"
   ]
  },
  {
   "cell_type": "code",
   "execution_count": 425,
   "metadata": {},
   "outputs": [
    {
     "name": "stdout",
     "output_type": "stream",
     "text": [
      "running experiment: 0\n",
      "poisoning percentage: 1250\n",
      "4/4 [==============================] - 0s 2ms/step - loss: 0.1219 - accuracy: 0.9709\n",
      "4/4 [==============================] - 0s 2ms/step - loss: 0.1670 - accuracy: 0.8738\n",
      "4/4 [==============================] - 0s 2ms/step\n",
      "4/4 [==============================] - 0s 3ms/step\n",
      "accuracy original: 0.97\n",
      "accuracy poisoned: 0.87\n",
      "f1 original: 0.93\n",
      "f1 poisoned: 0.60\n",
      "poisoning percentage: 1500\n",
      "4/4 [==============================] - 0s 2ms/step - loss: 0.1048 - accuracy: 0.9515\n",
      "4/4 [==============================] - 0s 2ms/step - loss: 0.1751 - accuracy: 0.8932\n",
      "4/4 [==============================] - 0s 2ms/step\n",
      "4/4 [==============================] - 0s 1ms/step\n",
      "accuracy original: 0.95\n",
      "accuracy poisoned: 0.89\n",
      "f1 original: 0.90\n",
      "f1 poisoned: 0.45\n",
      "running experiment: 1\n",
      "poisoning percentage: 1250\n",
      "4/4 [==============================] - 0s 2ms/step - loss: 0.0823 - accuracy: 0.9806\n",
      "4/4 [==============================] - 0s 2ms/step - loss: 0.1549 - accuracy: 0.9029\n",
      "4/4 [==============================] - 0s 2ms/step\n",
      "4/4 [==============================] - 0s 1ms/step\n",
      "accuracy original: 0.98\n",
      "accuracy poisoned: 0.90\n",
      "f1 original: 0.94\n",
      "f1 poisoned: 0.73\n",
      "poisoning percentage: 1500\n",
      "4/4 [==============================] - 0s 1ms/step - loss: 0.1069 - accuracy: 0.9417\n",
      "4/4 [==============================] - 0s 2ms/step - loss: 0.1668 - accuracy: 0.8932\n",
      "4/4 [==============================] - 0s 2ms/step\n",
      "4/4 [==============================] - 0s 1ms/step\n",
      "accuracy original: 0.94\n",
      "accuracy poisoned: 0.89\n",
      "f1 original: 0.83\n",
      "f1 poisoned: 0.65\n",
      "running experiment: 2\n",
      "poisoning percentage: 1250\n",
      "4/4 [==============================] - 0s 2ms/step - loss: 0.1077 - accuracy: 0.9515\n",
      "4/4 [==============================] - 0s 1ms/step - loss: 0.1474 - accuracy: 0.9029\n",
      "4/4 [==============================] - 0s 1ms/step\n",
      "4/4 [==============================] - 0s 1ms/step\n",
      "accuracy original: 0.95\n",
      "accuracy poisoned: 0.90\n",
      "f1 original: 0.90\n",
      "f1 poisoned: 0.67\n",
      "poisoning percentage: 1500\n",
      "4/4 [==============================] - 0s 2ms/step - loss: 0.1279 - accuracy: 0.9612\n",
      "4/4 [==============================] - 0s 2ms/step - loss: 0.2087 - accuracy: 0.8738\n",
      "4/4 [==============================] - 0s 2ms/step\n",
      "4/4 [==============================] - 0s 999us/step\n",
      "accuracy original: 0.96\n",
      "accuracy poisoned: 0.87\n",
      "f1 original: 0.89\n",
      "f1 poisoned: 0.48\n",
      "running experiment: 3\n",
      "poisoning percentage: 1250\n",
      "4/4 [==============================] - 0s 2ms/step - loss: 0.1167 - accuracy: 0.9612\n",
      "4/4 [==============================] - 0s 2ms/step - loss: 0.1444 - accuracy: 0.9320\n",
      "4/4 [==============================] - 0s 2ms/step\n",
      "4/4 [==============================] - 0s 1ms/step\n",
      "accuracy original: 0.96\n",
      "accuracy poisoned: 0.93\n",
      "f1 original: 0.88\n",
      "f1 poisoned: 0.78\n",
      "poisoning percentage: 1500\n",
      "4/4 [==============================] - 0s 1ms/step - loss: 0.1414 - accuracy: 0.9612\n",
      "4/4 [==============================] - 0s 1ms/step - loss: 0.1603 - accuracy: 0.8932\n",
      "4/4 [==============================] - 0s 1ms/step\n",
      "4/4 [==============================] - 0s 1ms/step\n",
      "accuracy original: 0.96\n",
      "accuracy poisoned: 0.89\n",
      "f1 original: 0.84\n",
      "f1 poisoned: 0.73\n",
      "running experiment: 4\n",
      "poisoning percentage: 1250\n",
      "4/4 [==============================] - 0s 1ms/step - loss: 0.1310 - accuracy: 0.9709\n",
      "4/4 [==============================] - 0s 1ms/step - loss: 0.1923 - accuracy: 0.8252\n",
      "4/4 [==============================] - 0s 1ms/step\n",
      "4/4 [==============================] - 0s 2ms/step\n",
      "accuracy original: 0.97\n",
      "accuracy poisoned: 0.83\n",
      "f1 original: 0.96\n",
      "f1 poisoned: 0.32\n",
      "poisoning percentage: 1500\n",
      "4/4 [==============================] - 0s 2ms/step - loss: 0.0955 - accuracy: 0.9709\n",
      "4/4 [==============================] - 0s 2ms/step - loss: 0.1775 - accuracy: 0.8155\n",
      "4/4 [==============================] - 0s 2ms/step\n",
      "4/4 [==============================] - 0s 1ms/step\n",
      "accuracy original: 0.97\n",
      "accuracy poisoned: 0.82\n",
      "f1 original: 0.97\n",
      "f1 poisoned: 0.46\n"
     ]
    }
   ],
   "source": [
    "impacts_new_5, complexity_new_5 = get_impact_over_range_of_poisoning(poison_range=[1250,1500], num_exp=5, poison_type='new_example',target_bias_class=None)\n",
    "avg_new_5=np.average(np.array(impacts_new_5), axis=0)\n",
    "stdev_new_5=np.std(np.array(impacts_new_5), axis=0)"
   ]
  },
  {
   "cell_type": "code",
   "execution_count": 375,
   "metadata": {},
   "outputs": [
    {
     "data": {
      "text/plain": [
       "[[0.08823529411764706,\n",
       "  0.19827586206896552,\n",
       "  0.33253588516746413,\n",
       "  0.42827868852459017,\n",
       "  0.5],\n",
       " [0.08823529411764706,\n",
       "  0.19827586206896552,\n",
       "  0.33253588516746413,\n",
       "  0.42827868852459017,\n",
       "  0.5],\n",
       " [0.08823529411764706,\n",
       "  0.19827586206896552,\n",
       "  0.33253588516746413,\n",
       "  0.42827868852459017,\n",
       "  0.5],\n",
       " [0.08823529411764706,\n",
       "  0.19827586206896552,\n",
       "  0.33253588516746413,\n",
       "  0.42827868852459017,\n",
       "  0.5],\n",
       " [0.08823529411764706,\n",
       "  0.19827586206896552,\n",
       "  0.33253588516746413,\n",
       "  0.42827868852459017,\n",
       "  0.5]]"
      ]
     },
     "execution_count": 375,
     "metadata": {},
     "output_type": "execute_result"
    }
   ],
   "source": []
  },
  {
   "cell_type": "code",
   "execution_count": 428,
   "metadata": {},
   "outputs": [],
   "source": [
    "avg_impacts_new_all = avg_new.copy()\n",
    "stdev_impacts_new_all = stdev_new.copy()\n",
    "\n",
    "for i in [avg_new_2, avg_new_3, avg_new_4, avg_new_5]:\n",
    "    avg_impacts_new_all= np.append(avg_impacts_new_all,i,0)\n",
    "\n",
    "for i in [stdev_new_2, stdev_new_3, stdev_new_4, stdev_new_5]:\n",
    "    stdev_impacts_new_all=np.append(stdev_impacts_new_all,i,0)\n",
    "\n",
    "complexity_new_all = np.array([])\n",
    "\n",
    "for i in [complexity_new,complexity_new_2,complexity_new_3,complexity_new_4,complexity_new_5]:\n",
    "    complexity_new_all = np.append(complexity_new_all, i[0],0)"
   ]
  },
  {
   "cell_type": "code",
   "execution_count": 503,
   "metadata": {},
   "outputs": [
    {
     "data": {
      "image/png": "[encoded data removed]",
      "text/plain": [
       "<Figure size 432x288 with 1 Axes>"
      ]
     },
     "metadata": {
      "needs_background": "light"
     },
     "output_type": "display_data"
    }
   ],
   "source": [
    "draw_graph_diff_x_plots(x_list=[complexity_new_all,complexity_swap[0],complexity_target[0]], y_list = [avg_impacts_new_all, avg_swap, avg_target], \n",
    "           err_list = [stdev_impacts_new_all, avg_swap, stdev_target], label_list=['New poison data','Random swapping','Targeted poisoning'],\n",
    "            xlabel = \"Complexity\", \n",
    "           ylabel = \"Impact\", xlim=[0.1,1], ylim=[0,max(avg_swap)], \n",
    "           is_legend=True, alpha=0.1, thresh_on=False)"
   ]
  },
  {
   "cell_type": "code",
   "execution_count": 506,
   "metadata": {},
   "outputs": [
    {
     "data": {
      "image/png": "[encoded data removed]",
      "text/plain": [
       "<Figure size 432x288 with 1 Axes>"
      ]
     },
     "metadata": {
      "needs_background": "light"
     },
     "output_type": "display_data"
    }
   ],
   "source": [
    "draw_graph_diff_x_plots(x_list=[complexity_swap[0],complexity_swap[0],complexity_target[0]], y_list = [[abs(i) for i in avg_existing], avg_swap, avg_target], \n",
    "           err_list = [stdev_impacts_new_all, avg_swap, stdev_target], label_list=['GAN poison data','Random swapping','Targeted poisoning'],\n",
    "            xlabel = \"Complexity\", \n",
    "           ylabel = \"Impact\", xlim=[0.1,1], ylim=[0,max(avg_swap)], \n",
    "           is_legend=True, alpha=0.1, thresh_on=False)"
   ]
  },
  {
   "cell_type": "code",
   "execution_count": 380,
   "metadata": {},
   "outputs": [
    {
     "data": {
      "text/plain": [
       "array([0.1962156 , 0.49870361, 1.25993991, 0.3725955 , 2.33854715,\n",
       "       0.91755501, 2.41137653, 2.20331607, 3.48827085, 3.76634706,\n",
       "       4.44279259])"
      ]
     },
     "execution_count": 380,
     "metadata": {},
     "output_type": "execute_result"
    }
   ],
   "source": [
    "avg_impacts_new_all"
   ]
  },
  {
   "cell_type": "code",
   "execution_count": 378,
   "metadata": {},
   "outputs": [
    {
     "data": {
      "text/plain": [
       "array([0.08823529, 0.19827586, 0.33253589, 0.42827869, 0.5       ,\n",
       "       0.59971306, 0.66666667, 0.75      , 0.83333333, 0.88888889,\n",
       "       0.90909091])"
      ]
     },
     "execution_count": 378,
     "metadata": {},
     "output_type": "execute_result"
    }
   ],
   "source": [
    "complexity_new_all"
   ]
  },
  {
   "cell_type": "code",
   "execution_count": 373,
   "metadata": {},
   "outputs": [
    {
     "data": {
      "text/plain": [
       "array([0.1962156 , 0.49870361, 1.25993991, 0.3725955 , 2.33854715,\n",
       "       0.91755501, 2.41137653, 2.20331607, 3.48827085, 3.76634706,\n",
       "       4.44279259])"
      ]
     },
     "execution_count": 373,
     "metadata": {},
     "output_type": "execute_result"
    }
   ],
   "source": [
    "avg_impacts_new_all"
   ]
  },
  {
   "cell_type": "code",
   "execution_count": 476,
   "metadata": {},
   "outputs": [
    {
     "data": {
      "image/png": "[encoded data removed]",
      "text/plain": [
       "<Figure size 432x288 with 1 Axes>"
      ]
     },
     "metadata": {
      "needs_background": "light"
     },
     "output_type": "display_data"
    }
   ],
   "source": [
    "draw_graph(x=[10,25,50,75,100], y_list = [complexity_new_avg, complexity_target_avg], \n",
    "           err_list = [complexity_new_st, complexity_target_st], label_list=['New poison data','Random/Targeted poisoning'],\n",
    "            xlabel = \"Poison percentage\", \n",
    "           ylabel = \"Complexity\", xlim=[10,100], ylim=[0,max(complexity_swap_avg)+max(complexity_target_st)], \n",
    "           is_legend=True, alpha=0.1, thresh_on=False)"
   ]
  },
  {
   "cell_type": "code",
   "execution_count": null,
   "metadata": {},
   "outputs": [],
   "source": [
    "draw_graph(x=[10,25,50,75,100], y_list = [complexity_new_avg, complexity_swap_avg, complexity_target_avg], \n",
    "           err_list = [complexity_new_st, complexity_swap_st, complexity_target_st], label_list=['New poison data','Random swapping','Targeted poisoning'],\n",
    "            xlabel = \"Poison percentage\", \n",
    "           ylabel = \"Complexity\", xlim=[10,100], ylim=[0,max(complexity_swap_avg)+max(complexity_target_st)], \n",
    "           is_legend=True, alpha=0.1, thresh_on=False)"
   ]
  },
  {
   "cell_type": "code",
   "execution_count": 348,
   "metadata": {},
   "outputs": [
    {
     "data": {
      "text/plain": [
       "[[0.08823529411764706,\n",
       "  0.19827586206896552,\n",
       "  0.33253588516746413,\n",
       "  0.42827868852459017,\n",
       "  0.5],\n",
       " [0.08823529411764706,\n",
       "  0.19827586206896552,\n",
       "  0.33253588516746413,\n",
       "  0.42827868852459017,\n",
       "  0.5],\n",
       " [0.08823529411764706,\n",
       "  0.19827586206896552,\n",
       "  0.33253588516746413,\n",
       "  0.42827868852459017,\n",
       "  0.5],\n",
       " [0.08823529411764706,\n",
       "  0.19827586206896552,\n",
       "  0.33253588516746413,\n",
       "  0.42827868852459017,\n",
       "  0.5],\n",
       " [0.08823529411764706,\n",
       "  0.19827586206896552,\n",
       "  0.33253588516746413,\n",
       "  0.42827868852459017,\n",
       "  0.5]]"
      ]
     },
     "execution_count": 348,
     "metadata": {},
     "output_type": "execute_result"
    }
   ],
   "source": [
    "complexity_new"
   ]
  },
  {
   "cell_type": "code",
   "execution_count": 347,
   "metadata": {},
   "outputs": [
    {
     "data": {
      "text/plain": [
       "array([0.08823529, 0.19827586, 0.33253589, 0.42827869, 0.5       ])"
      ]
     },
     "execution_count": 347,
     "metadata": {},
     "output_type": "execute_result"
    }
   ],
   "source": [
    "complexity_new_avg"
   ]
  },
  {
   "cell_type": "code",
   "execution_count": 346,
   "metadata": {},
   "outputs": [
    {
     "data": {
      "text/plain": [
       "[[0.08823529411764706,\n",
       "  0.19827586206896552,\n",
       "  0.33253588516746413,\n",
       "  0.42827868852459017,\n",
       "  0.5],\n",
       " [0.08823529411764706,\n",
       "  0.19827586206896552,\n",
       "  0.33253588516746413,\n",
       "  0.42827868852459017,\n",
       "  0.5],\n",
       " [0.08823529411764706,\n",
       "  0.19827586206896552,\n",
       "  0.33253588516746413,\n",
       "  0.42827868852459017,\n",
       "  0.5],\n",
       " [0.08823529411764706,\n",
       "  0.19827586206896552,\n",
       "  0.33253588516746413,\n",
       "  0.42827868852459017,\n",
       "  0.5],\n",
       " [0.08823529411764706,\n",
       "  0.19827586206896552,\n",
       "  0.33253588516746413,\n",
       "  0.42827868852459017,\n",
       "  0.5]]"
      ]
     },
     "execution_count": 346,
     "metadata": {},
     "output_type": "execute_result"
    }
   ],
   "source": [
    "complexity_new"
   ]
  },
  {
   "cell_type": "code",
   "execution_count": 339,
   "metadata": {},
   "outputs": [
    {
     "data": {
      "text/plain": [
       "array([0.09677419, 0.24731183, 0.49820789, 0.74910394, 1.        ])"
      ]
     },
     "execution_count": 339,
     "metadata": {},
     "output_type": "execute_result"
    }
   ],
   "source": [
    "complexity_swap_avg"
   ]
  },
  {
   "cell_type": "code",
   "execution_count": 340,
   "metadata": {},
   "outputs": [
    {
     "data": {
      "text/plain": [
       "array([0.09677419, 0.24731183, 0.49820789, 0.74910394, 1.        ])"
      ]
     },
     "execution_count": 340,
     "metadata": {},
     "output_type": "execute_result"
    }
   ],
   "source": [
    "complexity_target_avg"
   ]
  },
  {
   "cell_type": "code",
   "execution_count": 345,
   "metadata": {},
   "outputs": [
    {
     "data": {
      "text/plain": [
       "array([0.08823529, 0.19827586, 0.33253589, 0.42827869, 0.5       ])"
      ]
     },
     "execution_count": 345,
     "metadata": {},
     "output_type": "execute_result"
    }
   ],
   "source": [
    "complexity_new_st"
   ]
  },
  {
   "cell_type": "code",
   "execution_count": 337,
   "metadata": {},
   "outputs": [],
   "source": [
    "import csv\n",
    "\n",
    "write_files=[impacts_new, complexity_new, impacts_swap, complexity_swap, \n",
    "             impacts_target, complexity_target]\n",
    "file_name=['impacts_new', 'complexity_new', 'impacts_swap', 'complexity_swap', \n",
    "             'impacts_target', 'complexity_target']\n",
    "for i in range(len(write_files)):\n",
    "  fname=file_name[i]\n",
    "  with open(\"%s.csv\"%(fname), \"w\", newline=\"\") as f:\n",
    "      writer = csv.writer(f)\n",
    "      writer.writerows(write_files[i])"
   ]
  },
  {
   "attachments": {},
   "cell_type": "markdown",
   "metadata": {},
   "source": [
    "## XAI Metrics"
   ]
  },
  {
   "cell_type": "code",
   "execution_count": 334,
   "metadata": {},
   "outputs": [
    {
     "name": "stdout",
     "output_type": "stream",
     "text": [
      "True\n",
      "9/9 [==============================] - 0s 1ms/step - loss: 0.3132 - accuracy: 0.8495\n",
      "Accuracy: 84.95\n",
      "4/4 [==============================] - 0s 2ms/step\n",
      "Wrong prediction at sample 58\n",
      "Prediction: [0 0 0] but expected output: [0 1 0]\n",
      "Wrong prediction at sample 60\n",
      "Prediction: [0 0 0] but expected output: [0 1 0]\n",
      "Wrong prediction at sample 61\n",
      "Prediction: [0 0 0] but expected output: [0 1 0]\n",
      "Wrong prediction at sample 63\n",
      "Prediction: [0 0 0] but expected output: [0 1 0]\n",
      "Wrong prediction at sample 67\n",
      "Prediction: [0 0 0] but expected output: [0 0 1]\n",
      "Wrong prediction at sample 68\n",
      "Prediction: [1 0 0] but expected output: [0 0 1]\n",
      "Wrong prediction at sample 69\n",
      "Prediction: [1 0 0] but expected output: [0 0 1]\n",
      "Wrong prediction at sample 70\n",
      "Prediction: [0 0 0] but expected output: [0 0 1]\n",
      "Wrong prediction at sample 71\n",
      "Prediction: [0 0 0] but expected output: [0 0 1]\n",
      "Wrong prediction at sample 74\n",
      "Prediction: [1 0 0] but expected output: [0 0 1]\n",
      "Wrong prediction at sample 75\n",
      "Prediction: [1 0 0] but expected output: [0 0 1]\n",
      "Wrong prediction at sample 76\n",
      "Prediction: [0 0 0] but expected output: [0 0 1]\n",
      "Wrong prediction at sample 77\n",
      "Prediction: [0 0 0] but expected output: [0 0 1]\n",
      "Wrong prediction at sample 78\n",
      "Prediction: [1 0 0] but expected output: [0 0 1]\n",
      "Wrong prediction at sample 79\n",
      "Prediction: [1 0 0] but expected output: [0 0 1]\n",
      "Wrong prediction at sample 80\n",
      "Prediction: [1 0 0] but expected output: [0 0 1]\n",
      "Wrong prediction at sample 81\n",
      "Prediction: [1 0 0] but expected output: [0 0 1]\n",
      "Wrong prediction at sample 82\n",
      "Prediction: [1 0 0] but expected output: [0 0 1]\n",
      "Wrong prediction at sample 83\n",
      "Prediction: [1 0 0] but expected output: [0 0 1]\n",
      "Wrong prediction at sample 84\n",
      "Prediction: [1 0 0] but expected output: [0 0 1]\n",
      "4/4 [==============================] - 0s 1ms/step\n",
      "Confusion matrix: \n",
      "[[80  0  0]\n",
      " [ 0  7  0]\n",
      " [15  0  1]]\n",
      "Number of wrong predictions: 20\n",
      "Accuracy: 80.58252427184466%\n"
     ]
    },
    {
     "data": {
      "image/png": "[encoded data removed]",
      "text/plain": [
       "<Figure size 432x288 with 2 Axes>"
      ]
     },
     "metadata": {
      "needs_background": "light"
     },
     "output_type": "display_data"
    }
   ],
   "source": [
    "# Define the Keras model\n",
    "model = Sequential()\n",
    "model.add(Dense(12, input_shape=(21,), activation='relu'))\n",
    "model.add(Dense(8, activation='relu'))\n",
    "model.add(Dense(3, activation='sigmoid'))\n",
    "\n",
    "# Compile the Keras model\n",
    "model.compile(loss='binary_crossentropy', optimizer='adam', metrics=['accuracy'])\n",
    "\n",
    "# Fit the Keras model on the dataset\n",
    "# model.fit(X_poison, Y_poison, epochs=150, batch_size=10)\n",
    "X_train_new, Y_train_new,_,_ = get_poison_set(X_train, Y_train, X_poison, Y_poison, poison_type='random_swapping', percentage=50)\n",
    "model.fit(X_train_new, Y_train_new, epochs=50, batch_size=10,verbose=0)\n",
    "\n",
    "# Evaluate the Keras model\n",
    "_, accuracy = model.evaluate(X_train, Y_train)\n",
    "print('Accuracy: %.2f' % (accuracy*100))\n",
    "\n",
    "# Make class predictions with the model\n",
    "predictions = (model.predict(X_test) > 0.5).astype(int)\n",
    "\n",
    "nb_errors = 0\n",
    "nb_tests = len(X_test)\n",
    "errors = []\n",
    "for i in range(0,len(X_test)):\n",
    "\t#print('%s (expected %s)' % (predictions[i].tolist(), Y_test[i].tolist()))\n",
    "\tif (predictions[i].tolist() != Y_test[i].tolist()):\n",
    "\t\terrors.append(i)\n",
    "\t\tnb_errors += 1\n",
    "\n",
    "accuracy = (nb_tests - nb_errors) * 100 / nb_tests\n",
    "\n",
    "for i in errors:\n",
    "\tprint(\"Wrong prediction at sample \" + str(i + 1))\n",
    "\t#print(X_test[i])\n",
    "\tprint(\"Prediction: \" + str(predictions[i]) + \" but expected output: \" + str(Y_test[i]))\n",
    "\n",
    "Y_pred = model.predict(X_test)\n",
    "cm = confusion_matrix(Y_test.argmax(axis=1), Y_pred.argmax(axis=1))\n",
    "print(\"Confusion matrix: \\n\" + str(cm))\n",
    "\n",
    "labels = [\"Web\", \"Interactive\", \"Video\"]\n",
    "disp = ConfusionMatrixDisplay(confusion_matrix=cm, display_labels=labels)\n",
    "disp.plot(cmap=plt.cm.Blues)\n",
    "disp.ax_.set_title(\"Confusion Matrix\")\n",
    "\n",
    "print(\"Number of wrong predictions: \" + str(nb_errors))\n",
    "print(\"Accuracy: \" + str(accuracy) + \"%\")"
   ]
  },
  {
   "cell_type": "code",
   "execution_count": 335,
   "metadata": {},
   "outputs": [
    {
     "name": "stdout",
     "output_type": "stream",
     "text": [
      "4/4 [==============================] - 0s 999us/step\n"
     ]
    },
    {
     "name": "stderr",
     "output_type": "stream",
     "text": [
      "Using 103 background data samples could cause slower run times. Consider using shap.sample(data, K) or shap.kmeans(data, K) to summarize the background as K samples.\n",
      "  0%|          | 0/103 [00:00<?, ?it/s]"
     ]
    },
    {
     "name": "stdout",
     "output_type": "stream",
     "text": [
      "1/1 [==============================] - 0s 18ms/step\n",
      "322/322 [==============================] - 0s 621us/step\n"
     ]
    },
    {
     "name": "stderr",
     "output_type": "stream",
     "text": [
      "  1%|          | 1/103 [00:00<00:44,  2.28it/s]"
     ]
    },
    {
     "name": "stdout",
     "output_type": "stream",
     "text": [
      "1/1 [==============================] - 0s 18ms/step\n",
      "322/322 [==============================] - 0s 683us/step\n"
     ]
    },
    {
     "name": "stderr",
     "output_type": "stream",
     "text": [
      "  2%|▏         | 2/103 [00:00<00:46,  2.18it/s]"
     ]
    },
    {
     "name": "stdout",
     "output_type": "stream",
     "text": [
      "1/1 [==============================] - 0s 17ms/step\n",
      "322/322 [==============================] - 0s 716us/step\n"
     ]
    },
    {
     "name": "stderr",
     "output_type": "stream",
     "text": [
      "  3%|▎         | 3/103 [00:01<00:46,  2.16it/s]"
     ]
    },
    {
     "name": "stdout",
     "output_type": "stream",
     "text": [
      "1/1 [==============================] - 0s 17ms/step\n",
      "322/322 [==============================] - 0s 615us/step\n"
     ]
    },
    {
     "name": "stderr",
     "output_type": "stream",
     "text": [
      "  4%|▍         | 4/103 [00:01<00:44,  2.21it/s]"
     ]
    },
    {
     "name": "stdout",
     "output_type": "stream",
     "text": [
      "1/1 [==============================] - 0s 16ms/step\n",
      "322/322 [==============================] - 0s 611us/step\n"
     ]
    },
    {
     "name": "stderr",
     "output_type": "stream",
     "text": [
      "  5%|▍         | 5/103 [00:02<00:43,  2.26it/s]"
     ]
    },
    {
     "name": "stdout",
     "output_type": "stream",
     "text": [
      "1/1 [==============================] - 0s 23ms/step\n",
      "322/322 [==============================] - 0s 648us/step\n"
     ]
    },
    {
     "name": "stderr",
     "output_type": "stream",
     "text": [
      "  6%|▌         | 6/103 [00:02<00:43,  2.25it/s]"
     ]
    },
    {
     "name": "stdout",
     "output_type": "stream",
     "text": [
      "1/1 [==============================] - 0s 17ms/step\n",
      "322/322 [==============================] - 0s 589us/step\n"
     ]
    },
    {
     "name": "stderr",
     "output_type": "stream",
     "text": [
      "  7%|▋         | 7/103 [00:03<00:42,  2.28it/s]"
     ]
    },
    {
     "name": "stdout",
     "output_type": "stream",
     "text": [
      "1/1 [==============================] - 0s 16ms/step\n",
      "322/322 [==============================] - 0s 601us/step\n"
     ]
    },
    {
     "name": "stderr",
     "output_type": "stream",
     "text": [
      "  8%|▊         | 8/103 [00:03<00:41,  2.30it/s]"
     ]
    },
    {
     "name": "stdout",
     "output_type": "stream",
     "text": [
      "1/1 [==============================] - 0s 18ms/step\n",
      "322/322 [==============================] - 0s 600us/step\n"
     ]
    },
    {
     "name": "stderr",
     "output_type": "stream",
     "text": [
      "  9%|▊         | 9/103 [00:03<00:40,  2.31it/s]"
     ]
    },
    {
     "name": "stdout",
     "output_type": "stream",
     "text": [
      "1/1 [==============================] - 0s 17ms/step\n",
      "322/322 [==============================] - 0s 603us/step\n"
     ]
    },
    {
     "name": "stderr",
     "output_type": "stream",
     "text": [
      " 10%|▉         | 10/103 [00:04<00:40,  2.32it/s]"
     ]
    },
    {
     "name": "stdout",
     "output_type": "stream",
     "text": [
      "1/1 [==============================] - 0s 17ms/step\n",
      "322/322 [==============================] - 0s 760us/step\n"
     ]
    },
    {
     "name": "stderr",
     "output_type": "stream",
     "text": [
      " 11%|█         | 11/103 [00:04<00:40,  2.26it/s]"
     ]
    },
    {
     "name": "stdout",
     "output_type": "stream",
     "text": [
      "1/1 [==============================] - 0s 16ms/step\n",
      "322/322 [==============================] - 0s 597us/step\n"
     ]
    },
    {
     "name": "stderr",
     "output_type": "stream",
     "text": [
      " 12%|█▏        | 12/103 [00:05<00:39,  2.29it/s]"
     ]
    },
    {
     "name": "stdout",
     "output_type": "stream",
     "text": [
      "1/1 [==============================] - 0s 19ms/step\n",
      "322/322 [==============================] - 0s 597us/step\n"
     ]
    },
    {
     "name": "stderr",
     "output_type": "stream",
     "text": [
      " 13%|█▎        | 13/103 [00:05<00:38,  2.31it/s]"
     ]
    },
    {
     "name": "stdout",
     "output_type": "stream",
     "text": [
      "1/1 [==============================] - 0s 18ms/step\n",
      "322/322 [==============================] - 0s 598us/step\n"
     ]
    },
    {
     "name": "stderr",
     "output_type": "stream",
     "text": [
      " 14%|█▎        | 14/103 [00:06<00:38,  2.32it/s]"
     ]
    },
    {
     "name": "stdout",
     "output_type": "stream",
     "text": [
      "1/1 [==============================] - 0s 17ms/step\n",
      "322/322 [==============================] - 0s 607us/step\n"
     ]
    },
    {
     "name": "stderr",
     "output_type": "stream",
     "text": [
      " 15%|█▍        | 15/103 [00:06<00:37,  2.33it/s]"
     ]
    },
    {
     "name": "stdout",
     "output_type": "stream",
     "text": [
      "1/1 [==============================] - 0s 17ms/step\n",
      "322/322 [==============================] - 0s 692us/step\n"
     ]
    },
    {
     "name": "stderr",
     "output_type": "stream",
     "text": [
      " 16%|█▌        | 16/103 [00:07<00:38,  2.29it/s]"
     ]
    },
    {
     "name": "stdout",
     "output_type": "stream",
     "text": [
      "1/1 [==============================] - 0s 18ms/step\n",
      "322/322 [==============================] - 0s 666us/step\n"
     ]
    },
    {
     "name": "stderr",
     "output_type": "stream",
     "text": [
      " 17%|█▋        | 17/103 [00:07<00:38,  2.25it/s]"
     ]
    },
    {
     "name": "stdout",
     "output_type": "stream",
     "text": [
      "1/1 [==============================] - 0s 17ms/step\n",
      "322/322 [==============================] - 0s 732us/step\n"
     ]
    },
    {
     "name": "stderr",
     "output_type": "stream",
     "text": [
      " 17%|█▋        | 18/103 [00:07<00:38,  2.20it/s]"
     ]
    },
    {
     "name": "stdout",
     "output_type": "stream",
     "text": [
      "1/1 [==============================] - 0s 18ms/step\n",
      "322/322 [==============================] - 0s 690us/step\n"
     ]
    },
    {
     "name": "stderr",
     "output_type": "stream",
     "text": [
      " 18%|█▊        | 19/103 [00:08<00:38,  2.17it/s]"
     ]
    },
    {
     "name": "stdout",
     "output_type": "stream",
     "text": [
      "1/1 [==============================] - 0s 17ms/step\n",
      "322/322 [==============================] - 0s 724us/step\n"
     ]
    },
    {
     "name": "stderr",
     "output_type": "stream",
     "text": [
      " 19%|█▉        | 20/103 [00:08<00:39,  2.10it/s]"
     ]
    },
    {
     "name": "stdout",
     "output_type": "stream",
     "text": [
      "1/1 [==============================] - 0s 20ms/step\n",
      "322/322 [==============================] - 0s 598us/step\n"
     ]
    },
    {
     "name": "stderr",
     "output_type": "stream",
     "text": [
      " 20%|██        | 21/103 [00:09<00:38,  2.14it/s]"
     ]
    },
    {
     "name": "stdout",
     "output_type": "stream",
     "text": [
      "1/1 [==============================] - 0s 18ms/step\n",
      "322/322 [==============================] - 0s 632us/step\n"
     ]
    },
    {
     "name": "stderr",
     "output_type": "stream",
     "text": [
      " 21%|██▏       | 22/103 [00:09<00:37,  2.17it/s]"
     ]
    },
    {
     "name": "stdout",
     "output_type": "stream",
     "text": [
      "1/1 [==============================] - 0s 18ms/step\n",
      "322/322 [==============================] - 0s 691us/step\n"
     ]
    },
    {
     "name": "stderr",
     "output_type": "stream",
     "text": [
      " 22%|██▏       | 23/103 [00:10<00:37,  2.13it/s]"
     ]
    },
    {
     "name": "stdout",
     "output_type": "stream",
     "text": [
      "1/1 [==============================] - 0s 20ms/step\n",
      "322/322 [==============================] - 0s 660us/step\n"
     ]
    },
    {
     "name": "stderr",
     "output_type": "stream",
     "text": [
      " 23%|██▎       | 24/103 [00:10<00:37,  2.12it/s]"
     ]
    },
    {
     "name": "stdout",
     "output_type": "stream",
     "text": [
      "1/1 [==============================] - 0s 19ms/step\n",
      "322/322 [==============================] - 0s 656us/step\n"
     ]
    },
    {
     "name": "stderr",
     "output_type": "stream",
     "text": [
      " 24%|██▍       | 25/103 [00:11<00:36,  2.13it/s]"
     ]
    },
    {
     "name": "stdout",
     "output_type": "stream",
     "text": [
      "1/1 [==============================] - 0s 18ms/step\n",
      "322/322 [==============================] - 0s 747us/step\n"
     ]
    },
    {
     "name": "stderr",
     "output_type": "stream",
     "text": [
      " 25%|██▌       | 26/103 [00:11<00:36,  2.10it/s]"
     ]
    },
    {
     "name": "stdout",
     "output_type": "stream",
     "text": [
      "1/1 [==============================] - 0s 17ms/step\n",
      "322/322 [==============================] - 0s 680us/step\n"
     ]
    },
    {
     "name": "stderr",
     "output_type": "stream",
     "text": [
      " 26%|██▌       | 27/103 [00:12<00:35,  2.12it/s]"
     ]
    },
    {
     "name": "stdout",
     "output_type": "stream",
     "text": [
      "1/1 [==============================] - 0s 19ms/step\n",
      "322/322 [==============================] - 0s 671us/step\n"
     ]
    },
    {
     "name": "stderr",
     "output_type": "stream",
     "text": [
      " 27%|██▋       | 28/103 [00:12<00:35,  2.11it/s]"
     ]
    },
    {
     "name": "stdout",
     "output_type": "stream",
     "text": [
      "1/1 [==============================] - 0s 18ms/step\n",
      "322/322 [==============================] - 0s 717us/step\n"
     ]
    },
    {
     "name": "stderr",
     "output_type": "stream",
     "text": [
      " 28%|██▊       | 29/103 [00:13<00:35,  2.11it/s]"
     ]
    },
    {
     "name": "stdout",
     "output_type": "stream",
     "text": [
      "1/1 [==============================] - 0s 20ms/step\n",
      "322/322 [==============================] - 0s 666us/step\n"
     ]
    },
    {
     "name": "stderr",
     "output_type": "stream",
     "text": [
      " 29%|██▉       | 30/103 [00:13<00:34,  2.09it/s]"
     ]
    },
    {
     "name": "stdout",
     "output_type": "stream",
     "text": [
      "1/1 [==============================] - 0s 16ms/step\n",
      "322/322 [==============================] - 0s 677us/step\n"
     ]
    },
    {
     "name": "stderr",
     "output_type": "stream",
     "text": [
      " 30%|███       | 31/103 [00:14<00:33,  2.13it/s]"
     ]
    },
    {
     "name": "stdout",
     "output_type": "stream",
     "text": [
      "1/1 [==============================] - 0s 17ms/step\n",
      "322/322 [==============================] - 0s 689us/step\n"
     ]
    },
    {
     "name": "stderr",
     "output_type": "stream",
     "text": [
      " 31%|███       | 32/103 [00:14<00:33,  2.10it/s]"
     ]
    },
    {
     "name": "stdout",
     "output_type": "stream",
     "text": [
      "1/1 [==============================] - 0s 17ms/step\n",
      "322/322 [==============================] - 0s 611us/step\n"
     ]
    },
    {
     "name": "stderr",
     "output_type": "stream",
     "text": [
      " 32%|███▏      | 33/103 [00:15<00:32,  2.13it/s]"
     ]
    },
    {
     "name": "stdout",
     "output_type": "stream",
     "text": [
      "1/1 [==============================] - 0s 19ms/step\n",
      "322/322 [==============================] - 0s 693us/step\n"
     ]
    },
    {
     "name": "stderr",
     "output_type": "stream",
     "text": [
      " 33%|███▎      | 34/103 [00:15<00:32,  2.11it/s]"
     ]
    },
    {
     "name": "stdout",
     "output_type": "stream",
     "text": [
      "1/1 [==============================] - 0s 18ms/step\n",
      "322/322 [==============================] - 0s 703us/step\n"
     ]
    },
    {
     "name": "stderr",
     "output_type": "stream",
     "text": [
      " 34%|███▍      | 35/103 [00:16<00:32,  2.11it/s]"
     ]
    },
    {
     "name": "stdout",
     "output_type": "stream",
     "text": [
      "1/1 [==============================] - 0s 18ms/step\n",
      "322/322 [==============================] - 0s 731us/step\n"
     ]
    },
    {
     "name": "stderr",
     "output_type": "stream",
     "text": [
      " 35%|███▍      | 36/103 [00:16<00:31,  2.10it/s]"
     ]
    },
    {
     "name": "stdout",
     "output_type": "stream",
     "text": [
      "1/1 [==============================] - 0s 18ms/step\n",
      "322/322 [==============================] - 0s 712us/step\n"
     ]
    },
    {
     "name": "stderr",
     "output_type": "stream",
     "text": [
      " 36%|███▌      | 37/103 [00:16<00:31,  2.10it/s]"
     ]
    },
    {
     "name": "stdout",
     "output_type": "stream",
     "text": [
      "1/1 [==============================] - 0s 17ms/step\n",
      "322/322 [==============================] - 0s 728us/step\n"
     ]
    },
    {
     "name": "stderr",
     "output_type": "stream",
     "text": [
      " 37%|███▋      | 38/103 [00:17<00:31,  2.09it/s]"
     ]
    },
    {
     "name": "stdout",
     "output_type": "stream",
     "text": [
      "1/1 [==============================] - 0s 19ms/step\n",
      "322/322 [==============================] - 0s 628us/step\n"
     ]
    },
    {
     "name": "stderr",
     "output_type": "stream",
     "text": [
      " 38%|███▊      | 39/103 [00:17<00:30,  2.11it/s]"
     ]
    },
    {
     "name": "stdout",
     "output_type": "stream",
     "text": [
      "1/1 [==============================] - 0s 22ms/step\n",
      "322/322 [==============================] - 0s 662us/step\n"
     ]
    },
    {
     "name": "stderr",
     "output_type": "stream",
     "text": [
      " 39%|███▉      | 40/103 [00:18<00:30,  2.06it/s]"
     ]
    },
    {
     "name": "stdout",
     "output_type": "stream",
     "text": [
      "1/1 [==============================] - 0s 20ms/step\n",
      "322/322 [==============================] - 0s 696us/step\n"
     ]
    },
    {
     "name": "stderr",
     "output_type": "stream",
     "text": [
      " 40%|███▉      | 41/103 [00:18<00:29,  2.07it/s]"
     ]
    },
    {
     "name": "stdout",
     "output_type": "stream",
     "text": [
      "1/1 [==============================] - 0s 18ms/step\n",
      "322/322 [==============================] - 0s 671us/step\n"
     ]
    },
    {
     "name": "stderr",
     "output_type": "stream",
     "text": [
      " 41%|████      | 42/103 [00:19<00:29,  2.10it/s]"
     ]
    },
    {
     "name": "stdout",
     "output_type": "stream",
     "text": [
      "1/1 [==============================] - 0s 20ms/step\n",
      "322/322 [==============================] - 0s 652us/step\n"
     ]
    },
    {
     "name": "stderr",
     "output_type": "stream",
     "text": [
      " 42%|████▏     | 43/103 [00:19<00:28,  2.11it/s]"
     ]
    },
    {
     "name": "stdout",
     "output_type": "stream",
     "text": [
      "1/1 [==============================] - 0s 15ms/step\n",
      "322/322 [==============================] - 0s 684us/step\n"
     ]
    },
    {
     "name": "stderr",
     "output_type": "stream",
     "text": [
      " 43%|████▎     | 44/103 [00:20<00:27,  2.12it/s]"
     ]
    },
    {
     "name": "stdout",
     "output_type": "stream",
     "text": [
      "1/1 [==============================] - 0s 17ms/step\n",
      "322/322 [==============================] - 0s 700us/step\n"
     ]
    },
    {
     "name": "stderr",
     "output_type": "stream",
     "text": [
      " 44%|████▎     | 45/103 [00:20<00:27,  2.09it/s]"
     ]
    },
    {
     "name": "stdout",
     "output_type": "stream",
     "text": [
      "1/1 [==============================] - 0s 18ms/step\n",
      "322/322 [==============================] - 0s 699us/step\n"
     ]
    },
    {
     "name": "stderr",
     "output_type": "stream",
     "text": [
      " 45%|████▍     | 46/103 [00:21<00:27,  2.10it/s]"
     ]
    },
    {
     "name": "stdout",
     "output_type": "stream",
     "text": [
      "1/1 [==============================] - 0s 26ms/step\n",
      "322/322 [==============================] - 0s 689us/step\n"
     ]
    },
    {
     "name": "stderr",
     "output_type": "stream",
     "text": [
      " 46%|████▌     | 47/103 [00:21<00:26,  2.08it/s]"
     ]
    },
    {
     "name": "stdout",
     "output_type": "stream",
     "text": [
      "1/1 [==============================] - 0s 16ms/step\n",
      "322/322 [==============================] - 0s 701us/step\n"
     ]
    },
    {
     "name": "stderr",
     "output_type": "stream",
     "text": [
      " 47%|████▋     | 48/103 [00:22<00:26,  2.09it/s]"
     ]
    },
    {
     "name": "stdout",
     "output_type": "stream",
     "text": [
      "1/1 [==============================] - 0s 17ms/step\n",
      "322/322 [==============================] - 0s 598us/step\n"
     ]
    },
    {
     "name": "stderr",
     "output_type": "stream",
     "text": [
      " 48%|████▊     | 49/103 [00:22<00:25,  2.14it/s]"
     ]
    },
    {
     "name": "stdout",
     "output_type": "stream",
     "text": [
      "1/1 [==============================] - 0s 17ms/step\n",
      "322/322 [==============================] - 0s 622us/step\n"
     ]
    },
    {
     "name": "stderr",
     "output_type": "stream",
     "text": [
      " 49%|████▊     | 50/103 [00:23<00:24,  2.17it/s]"
     ]
    },
    {
     "name": "stdout",
     "output_type": "stream",
     "text": [
      "1/1 [==============================] - 0s 18ms/step\n",
      "322/322 [==============================] - 0s 654us/step\n"
     ]
    },
    {
     "name": "stderr",
     "output_type": "stream",
     "text": [
      " 50%|████▉     | 51/103 [00:23<00:23,  2.18it/s]"
     ]
    },
    {
     "name": "stdout",
     "output_type": "stream",
     "text": [
      "1/1 [==============================] - 0s 16ms/step\n",
      "322/322 [==============================] - 0s 665us/step\n"
     ]
    },
    {
     "name": "stderr",
     "output_type": "stream",
     "text": [
      " 50%|█████     | 52/103 [00:24<00:23,  2.18it/s]"
     ]
    },
    {
     "name": "stdout",
     "output_type": "stream",
     "text": [
      "1/1 [==============================] - 0s 16ms/step\n",
      "322/322 [==============================] - 0s 675us/step\n"
     ]
    },
    {
     "name": "stderr",
     "output_type": "stream",
     "text": [
      " 51%|█████▏    | 53/103 [00:24<00:23,  2.17it/s]"
     ]
    },
    {
     "name": "stdout",
     "output_type": "stream",
     "text": [
      "1/1 [==============================] - 0s 23ms/step\n",
      "322/322 [==============================] - 0s 661us/step\n"
     ]
    },
    {
     "name": "stderr",
     "output_type": "stream",
     "text": [
      " 52%|█████▏    | 54/103 [00:24<00:22,  2.16it/s]"
     ]
    },
    {
     "name": "stdout",
     "output_type": "stream",
     "text": [
      "1/1 [==============================] - 0s 17ms/step\n",
      "322/322 [==============================] - 0s 657us/step\n"
     ]
    },
    {
     "name": "stderr",
     "output_type": "stream",
     "text": [
      " 53%|█████▎    | 55/103 [00:25<00:22,  2.17it/s]"
     ]
    },
    {
     "name": "stdout",
     "output_type": "stream",
     "text": [
      "1/1 [==============================] - 0s 17ms/step\n",
      "322/322 [==============================] - 0s 680us/step\n"
     ]
    },
    {
     "name": "stderr",
     "output_type": "stream",
     "text": [
      " 54%|█████▍    | 56/103 [00:25<00:21,  2.19it/s]"
     ]
    },
    {
     "name": "stdout",
     "output_type": "stream",
     "text": [
      "1/1 [==============================] - 0s 17ms/step\n",
      "322/322 [==============================] - 0s 742us/step\n"
     ]
    },
    {
     "name": "stderr",
     "output_type": "stream",
     "text": [
      " 55%|█████▌    | 57/103 [00:26<00:21,  2.15it/s]"
     ]
    },
    {
     "name": "stdout",
     "output_type": "stream",
     "text": [
      "1/1 [==============================] - 0s 20ms/step\n",
      "322/322 [==============================] - 0s 648us/step\n"
     ]
    },
    {
     "name": "stderr",
     "output_type": "stream",
     "text": [
      " 56%|█████▋    | 58/103 [00:26<00:20,  2.16it/s]"
     ]
    },
    {
     "name": "stdout",
     "output_type": "stream",
     "text": [
      "1/1 [==============================] - 0s 20ms/step\n",
      "322/322 [==============================] - 0s 626us/step\n"
     ]
    },
    {
     "name": "stderr",
     "output_type": "stream",
     "text": [
      " 57%|█████▋    | 59/103 [00:27<00:20,  2.19it/s]"
     ]
    },
    {
     "name": "stdout",
     "output_type": "stream",
     "text": [
      "1/1 [==============================] - 0s 16ms/step\n",
      "322/322 [==============================] - 0s 669us/step\n"
     ]
    },
    {
     "name": "stderr",
     "output_type": "stream",
     "text": [
      " 58%|█████▊    | 60/103 [00:27<00:19,  2.19it/s]"
     ]
    },
    {
     "name": "stdout",
     "output_type": "stream",
     "text": [
      "1/1 [==============================] - 0s 17ms/step\n",
      "322/322 [==============================] - 0s 660us/step\n"
     ]
    },
    {
     "name": "stderr",
     "output_type": "stream",
     "text": [
      " 59%|█████▉    | 61/103 [00:28<00:19,  2.18it/s]"
     ]
    },
    {
     "name": "stdout",
     "output_type": "stream",
     "text": [
      "1/1 [==============================] - 0s 16ms/step\n",
      "322/322 [==============================] - 0s 651us/step\n"
     ]
    },
    {
     "name": "stderr",
     "output_type": "stream",
     "text": [
      " 60%|██████    | 62/103 [00:28<00:18,  2.20it/s]"
     ]
    },
    {
     "name": "stdout",
     "output_type": "stream",
     "text": [
      "1/1 [==============================] - 0s 17ms/step\n",
      "322/322 [==============================] - 0s 645us/step\n"
     ]
    },
    {
     "name": "stderr",
     "output_type": "stream",
     "text": [
      " 61%|██████    | 63/103 [00:29<00:18,  2.21it/s]"
     ]
    },
    {
     "name": "stdout",
     "output_type": "stream",
     "text": [
      "1/1 [==============================] - 0s 17ms/step\n",
      "322/322 [==============================] - 0s 670us/step\n"
     ]
    },
    {
     "name": "stderr",
     "output_type": "stream",
     "text": [
      " 62%|██████▏   | 64/103 [00:29<00:17,  2.21it/s]"
     ]
    },
    {
     "name": "stdout",
     "output_type": "stream",
     "text": [
      "1/1 [==============================] - 0s 18ms/step\n",
      "322/322 [==============================] - 0s 648us/step\n"
     ]
    },
    {
     "name": "stderr",
     "output_type": "stream",
     "text": [
      " 63%|██████▎   | 65/103 [00:29<00:17,  2.18it/s]"
     ]
    },
    {
     "name": "stdout",
     "output_type": "stream",
     "text": [
      "1/1 [==============================] - 0s 16ms/step\n",
      "322/322 [==============================] - 0s 580us/step\n"
     ]
    },
    {
     "name": "stderr",
     "output_type": "stream",
     "text": [
      " 64%|██████▍   | 66/103 [00:30<00:16,  2.24it/s]"
     ]
    },
    {
     "name": "stdout",
     "output_type": "stream",
     "text": [
      "1/1 [==============================] - 0s 17ms/step\n",
      "322/322 [==============================] - 0s 814us/step\n"
     ]
    },
    {
     "name": "stderr",
     "output_type": "stream",
     "text": [
      " 65%|██████▌   | 67/103 [00:30<00:16,  2.16it/s]"
     ]
    },
    {
     "name": "stdout",
     "output_type": "stream",
     "text": [
      "1/1 [==============================] - 0s 17ms/step\n",
      "322/322 [==============================] - 0s 642us/step\n"
     ]
    },
    {
     "name": "stderr",
     "output_type": "stream",
     "text": [
      " 66%|██████▌   | 68/103 [00:31<00:16,  2.18it/s]"
     ]
    },
    {
     "name": "stdout",
     "output_type": "stream",
     "text": [
      "1/1 [==============================] - 0s 15ms/step\n",
      "322/322 [==============================] - 0s 676us/step\n"
     ]
    },
    {
     "name": "stderr",
     "output_type": "stream",
     "text": [
      " 67%|██████▋   | 69/103 [00:31<00:15,  2.17it/s]"
     ]
    },
    {
     "name": "stdout",
     "output_type": "stream",
     "text": [
      "1/1 [==============================] - 0s 17ms/step\n",
      "322/322 [==============================] - 0s 639us/step\n"
     ]
    },
    {
     "name": "stderr",
     "output_type": "stream",
     "text": [
      " 68%|██████▊   | 70/103 [00:32<00:15,  2.17it/s]"
     ]
    },
    {
     "name": "stdout",
     "output_type": "stream",
     "text": [
      "1/1 [==============================] - 0s 19ms/step\n",
      "322/322 [==============================] - 0s 650us/step\n"
     ]
    },
    {
     "name": "stderr",
     "output_type": "stream",
     "text": [
      " 69%|██████▉   | 71/103 [00:32<00:14,  2.18it/s]"
     ]
    },
    {
     "name": "stdout",
     "output_type": "stream",
     "text": [
      "1/1 [==============================] - 0s 18ms/step\n",
      "322/322 [==============================] - 0s 588us/step\n"
     ]
    },
    {
     "name": "stderr",
     "output_type": "stream",
     "text": [
      " 70%|██████▉   | 72/103 [00:33<00:13,  2.25it/s]"
     ]
    },
    {
     "name": "stdout",
     "output_type": "stream",
     "text": [
      "1/1 [==============================] - 0s 20ms/step\n",
      "322/322 [==============================] - 0s 651us/step\n"
     ]
    },
    {
     "name": "stderr",
     "output_type": "stream",
     "text": [
      " 71%|███████   | 73/103 [00:33<00:13,  2.22it/s]"
     ]
    },
    {
     "name": "stdout",
     "output_type": "stream",
     "text": [
      "1/1 [==============================] - 0s 21ms/step\n",
      "322/322 [==============================] - 0s 663us/step\n"
     ]
    },
    {
     "name": "stderr",
     "output_type": "stream",
     "text": [
      " 72%|███████▏  | 74/103 [00:34<00:13,  2.19it/s]"
     ]
    },
    {
     "name": "stdout",
     "output_type": "stream",
     "text": [
      "1/1 [==============================] - 0s 16ms/step\n",
      "322/322 [==============================] - 0s 671us/step\n"
     ]
    },
    {
     "name": "stderr",
     "output_type": "stream",
     "text": [
      " 73%|███████▎  | 75/103 [00:34<00:12,  2.18it/s]"
     ]
    },
    {
     "name": "stdout",
     "output_type": "stream",
     "text": [
      "1/1 [==============================] - 0s 18ms/step\n",
      "322/322 [==============================] - 0s 706us/step\n"
     ]
    },
    {
     "name": "stderr",
     "output_type": "stream",
     "text": [
      " 74%|███████▍  | 76/103 [00:35<00:12,  2.14it/s]"
     ]
    },
    {
     "name": "stdout",
     "output_type": "stream",
     "text": [
      "1/1 [==============================] - 0s 21ms/step\n",
      "322/322 [==============================] - 0s 671us/step\n"
     ]
    },
    {
     "name": "stderr",
     "output_type": "stream",
     "text": [
      " 75%|███████▍  | 77/103 [00:35<00:12,  2.12it/s]"
     ]
    },
    {
     "name": "stdout",
     "output_type": "stream",
     "text": [
      "1/1 [==============================] - 0s 21ms/step\n",
      "322/322 [==============================] - 0s 651us/step\n"
     ]
    },
    {
     "name": "stderr",
     "output_type": "stream",
     "text": [
      " 76%|███████▌  | 78/103 [00:36<00:11,  2.12it/s]"
     ]
    },
    {
     "name": "stdout",
     "output_type": "stream",
     "text": [
      "1/1 [==============================] - 0s 17ms/step\n",
      "322/322 [==============================] - 0s 704us/step\n"
     ]
    },
    {
     "name": "stderr",
     "output_type": "stream",
     "text": [
      " 77%|███████▋  | 79/103 [00:36<00:11,  2.12it/s]"
     ]
    },
    {
     "name": "stdout",
     "output_type": "stream",
     "text": [
      "1/1 [==============================] - 0s 18ms/step\n",
      "322/322 [==============================] - 0s 643us/step\n"
     ]
    },
    {
     "name": "stderr",
     "output_type": "stream",
     "text": [
      " 78%|███████▊  | 80/103 [00:36<00:10,  2.15it/s]"
     ]
    },
    {
     "name": "stdout",
     "output_type": "stream",
     "text": [
      "1/1 [==============================] - 0s 19ms/step\n",
      "322/322 [==============================] - 0s 673us/step\n"
     ]
    },
    {
     "name": "stderr",
     "output_type": "stream",
     "text": [
      " 79%|███████▊  | 81/103 [00:37<00:10,  2.16it/s]"
     ]
    },
    {
     "name": "stdout",
     "output_type": "stream",
     "text": [
      "1/1 [==============================] - 0s 18ms/step\n",
      "322/322 [==============================] - 0s 693us/step\n"
     ]
    },
    {
     "name": "stderr",
     "output_type": "stream",
     "text": [
      " 80%|███████▉  | 82/103 [00:37<00:09,  2.15it/s]"
     ]
    },
    {
     "name": "stdout",
     "output_type": "stream",
     "text": [
      "1/1 [==============================] - 0s 18ms/step\n",
      "322/322 [==============================] - 0s 749us/step\n"
     ]
    },
    {
     "name": "stderr",
     "output_type": "stream",
     "text": [
      " 81%|████████  | 83/103 [00:38<00:09,  2.11it/s]"
     ]
    },
    {
     "name": "stdout",
     "output_type": "stream",
     "text": [
      "1/1 [==============================] - 0s 18ms/step\n",
      "322/322 [==============================] - 0s 704us/step\n"
     ]
    },
    {
     "name": "stderr",
     "output_type": "stream",
     "text": [
      " 82%|████████▏ | 84/103 [00:38<00:09,  2.09it/s]"
     ]
    },
    {
     "name": "stdout",
     "output_type": "stream",
     "text": [
      "1/1 [==============================] - 0s 15ms/step\n",
      "322/322 [==============================] - 0s 699us/step\n"
     ]
    },
    {
     "name": "stderr",
     "output_type": "stream",
     "text": [
      " 83%|████████▎ | 85/103 [00:39<00:08,  2.11it/s]"
     ]
    },
    {
     "name": "stdout",
     "output_type": "stream",
     "text": [
      "1/1 [==============================] - 0s 19ms/step\n",
      "322/322 [==============================] - 0s 682us/step\n"
     ]
    },
    {
     "name": "stderr",
     "output_type": "stream",
     "text": [
      " 83%|████████▎ | 86/103 [00:39<00:08,  2.11it/s]"
     ]
    },
    {
     "name": "stdout",
     "output_type": "stream",
     "text": [
      "1/1 [==============================] - 0s 17ms/step\n",
      "322/322 [==============================] - 0s 672us/step\n"
     ]
    },
    {
     "name": "stderr",
     "output_type": "stream",
     "text": [
      " 84%|████████▍ | 87/103 [00:40<00:07,  2.10it/s]"
     ]
    },
    {
     "name": "stdout",
     "output_type": "stream",
     "text": [
      "1/1 [==============================] - 0s 18ms/step\n",
      "322/322 [==============================] - 0s 654us/step\n"
     ]
    },
    {
     "name": "stderr",
     "output_type": "stream",
     "text": [
      " 85%|████████▌ | 88/103 [00:40<00:07,  2.12it/s]"
     ]
    },
    {
     "name": "stdout",
     "output_type": "stream",
     "text": [
      "1/1 [==============================] - 0s 18ms/step\n",
      "322/322 [==============================] - 0s 719us/step\n"
     ]
    },
    {
     "name": "stderr",
     "output_type": "stream",
     "text": [
      " 86%|████████▋ | 89/103 [00:41<00:06,  2.11it/s]"
     ]
    },
    {
     "name": "stdout",
     "output_type": "stream",
     "text": [
      "1/1 [==============================] - 0s 17ms/step\n",
      "322/322 [==============================] - 0s 693us/step\n"
     ]
    },
    {
     "name": "stderr",
     "output_type": "stream",
     "text": [
      " 87%|████████▋ | 90/103 [00:41<00:06,  2.12it/s]"
     ]
    },
    {
     "name": "stdout",
     "output_type": "stream",
     "text": [
      "1/1 [==============================] - 0s 16ms/step\n",
      "322/322 [==============================] - 0s 720us/step\n"
     ]
    },
    {
     "name": "stderr",
     "output_type": "stream",
     "text": [
      " 88%|████████▊ | 91/103 [00:42<00:05,  2.09it/s]"
     ]
    },
    {
     "name": "stdout",
     "output_type": "stream",
     "text": [
      "1/1 [==============================] - 0s 17ms/step\n",
      "322/322 [==============================] - 0s 720us/step\n"
     ]
    },
    {
     "name": "stderr",
     "output_type": "stream",
     "text": [
      " 89%|████████▉ | 92/103 [00:42<00:05,  2.07it/s]"
     ]
    },
    {
     "name": "stdout",
     "output_type": "stream",
     "text": [
      "1/1 [==============================] - 0s 17ms/step\n",
      "322/322 [==============================] - 0s 685us/step\n"
     ]
    },
    {
     "name": "stderr",
     "output_type": "stream",
     "text": [
      " 90%|█████████ | 93/103 [00:43<00:04,  2.08it/s]"
     ]
    },
    {
     "name": "stdout",
     "output_type": "stream",
     "text": [
      "1/1 [==============================] - 0s 17ms/step\n",
      "322/322 [==============================] - 0s 694us/step\n"
     ]
    },
    {
     "name": "stderr",
     "output_type": "stream",
     "text": [
      " 91%|█████████▏| 94/103 [00:43<00:04,  2.04it/s]"
     ]
    },
    {
     "name": "stdout",
     "output_type": "stream",
     "text": [
      "1/1 [==============================] - 0s 18ms/step\n",
      "322/322 [==============================] - 0s 693us/step\n"
     ]
    },
    {
     "name": "stderr",
     "output_type": "stream",
     "text": [
      " 92%|█████████▏| 95/103 [00:44<00:03,  2.05it/s]"
     ]
    },
    {
     "name": "stdout",
     "output_type": "stream",
     "text": [
      "1/1 [==============================] - 0s 19ms/step\n",
      "322/322 [==============================] - 0s 689us/step\n"
     ]
    },
    {
     "name": "stderr",
     "output_type": "stream",
     "text": [
      " 93%|█████████▎| 96/103 [00:44<00:03,  2.03it/s]"
     ]
    },
    {
     "name": "stdout",
     "output_type": "stream",
     "text": [
      "1/1 [==============================] - 0s 17ms/step\n",
      "322/322 [==============================] - 0s 698us/step\n"
     ]
    },
    {
     "name": "stderr",
     "output_type": "stream",
     "text": [
      " 94%|█████████▍| 97/103 [00:45<00:02,  2.05it/s]"
     ]
    },
    {
     "name": "stdout",
     "output_type": "stream",
     "text": [
      "1/1 [==============================] - 0s 18ms/step\n",
      "322/322 [==============================] - 0s 656us/step\n"
     ]
    },
    {
     "name": "stderr",
     "output_type": "stream",
     "text": [
      " 95%|█████████▌| 98/103 [00:45<00:02,  2.08it/s]"
     ]
    },
    {
     "name": "stdout",
     "output_type": "stream",
     "text": [
      "1/1 [==============================] - 0s 19ms/step\n",
      "322/322 [==============================] - 0s 719us/step\n"
     ]
    },
    {
     "name": "stderr",
     "output_type": "stream",
     "text": [
      " 96%|█████████▌| 99/103 [00:46<00:01,  2.05it/s]"
     ]
    },
    {
     "name": "stdout",
     "output_type": "stream",
     "text": [
      "1/1 [==============================] - 0s 21ms/step\n",
      "322/322 [==============================] - 0s 705us/step\n"
     ]
    },
    {
     "name": "stderr",
     "output_type": "stream",
     "text": [
      " 97%|█████████▋| 100/103 [00:46<00:01,  1.73it/s]"
     ]
    },
    {
     "name": "stdout",
     "output_type": "stream",
     "text": [
      "1/1 [==============================] - 0s 23ms/step\n",
      "322/322 [==============================] - 0s 711us/step\n"
     ]
    },
    {
     "name": "stderr",
     "output_type": "stream",
     "text": [
      " 98%|█████████▊| 101/103 [00:47<00:01,  1.81it/s]"
     ]
    },
    {
     "name": "stdout",
     "output_type": "stream",
     "text": [
      "1/1 [==============================] - 0s 19ms/step\n",
      "322/322 [==============================] - 0s 642us/step\n"
     ]
    },
    {
     "name": "stderr",
     "output_type": "stream",
     "text": [
      " 99%|█████████▉| 102/103 [00:47<00:00,  1.91it/s]"
     ]
    },
    {
     "name": "stdout",
     "output_type": "stream",
     "text": [
      "1/1 [==============================] - 0s 17ms/step\n",
      "322/322 [==============================] - 0s 643us/step\n"
     ]
    },
    {
     "name": "stderr",
     "output_type": "stream",
     "text": [
      "100%|██████████| 103/103 [00:48<00:00,  2.13it/s]\n"
     ]
    },
    {
     "data": {
      "image/png": "[encoded data removed]",
      "text/plain": [
       "<Figure size 576x712.8 with 2 Axes>"
      ]
     },
     "metadata": {
      "needs_background": "light"
     },
     "output_type": "display_data"
    },
    {
     "data": {
      "image/png": "[encoded data removed]",
      "text/plain": [
       "<Figure size 576x712.8 with 2 Axes>"
      ]
     },
     "metadata": {
      "needs_background": "light"
     },
     "output_type": "display_data"
    },
    {
     "data": {
      "image/png": "[encoded data removed]",
      "text/plain": [
       "<Figure size 576x712.8 with 2 Axes>"
      ]
     },
     "metadata": {
      "needs_background": "light"
     },
     "output_type": "display_data"
    },
    {
     "data": {
      "image/png": "[encoded data removed]",
      "text/plain": [
       "<Figure size 576x712.8 with 1 Axes>"
      ]
     },
     "metadata": {
      "needs_background": "light"
     },
     "output_type": "display_data"
    }
   ],
   "source": [
    "from pydoc import classname\n",
    "import warnings\n",
    "import shap\n",
    "\n",
    "classes=['Web', 'Interactive', 'Video']\n",
    "explainer = shap.KernelExplainer(model.predict, X_test)\n",
    "with warnings.catch_warnings():\n",
    "    warnings.filterwarnings(\"ignore\")\n",
    "    shap_values = explainer.shap_values(X_test, nsamples=100)\n",
    "#print(shap_values)\n",
    "\n",
    "shap.summary_plot(shap_values[0], X_test, feature_names=features, max_display=24, \n",
    "                    class_names=classes, color_bar_label='Feature value for Web', plot_type=\"violin\")\n",
    "shap.summary_plot(shap_values[1], X_test, feature_names=features, max_display=24, \n",
    "                    class_names=classes, color_bar_label='Feature value for Interactive', plot_type=\"violin\")\n",
    "shap.summary_plot(shap_values[2], X_test, feature_names=features, max_display=24, \n",
    "                    class_names=classes, color_bar_label='Feature value for Video', plot_type=\"violin\")\n",
    "\n",
    "shap.summary_plot(shap_values, X_test, feature_names=features, max_display=24, \n",
    "                    class_names=classes, color_bar_label='Feature value for all')"
   ]
  },
  {
   "cell_type": "code",
   "execution_count": null,
   "metadata": {},
   "outputs": [],
   "source": []
  }
 ],
 "metadata": {
  "kernelspec": {
   "display_name": "base",
   "language": "python",
   "name": "python3"
  },
  "language_info": {
   "codemirror_mode": {
    "name": "ipython",
    "version": 3
   },
   "file_extension": ".py",
   "mimetype": "text/x-python",
   "name": "python",
   "nbconvert_exporter": "python",
   "pygments_lexer": "ipython3",
   "version": "3.9.7"
  },
  "orig_nbformat": 4,
  "vscode": {
   "interpreter": {
    "hash": "755acbc9cb9f1df84f78a1996c05787445af03c33496e5e0c15fef4dfd1e9927"
   }
  }
 },
 "nbformat": 4,
 "nbformat_minor": 2
}
